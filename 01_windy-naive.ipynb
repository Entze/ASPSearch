{
 "cells": [
  {
   "cell_type": "code",
   "execution_count": 160,
   "metadata": {
    "collapsed": true
   },
   "outputs": [],
   "source": [
    "import clingo"
   ]
  },
  {
   "cell_type": "code",
   "execution_count": 161,
   "outputs": [],
   "source": [
    "inst1 = \"\"\"\n",
    "#program base.\n",
    "e(2,1,100).\n",
    "e(3,2,100).\n",
    "e(1,3,100).\n",
    "e(1,2,10).\n",
    "e(2,3,10).\n",
    "e(3,1,10).\n",
    "\"\"\"\n",
    "inst2 = inst1 + \"\"\"\n",
    "#program base.\n",
    "e(3,4,10).\n",
    "e(4,1,10).\n",
    "e(4,3,100).\n",
    "e(1,4,100).\n",
    "\"\"\""
   ],
   "metadata": {
    "collapsed": false,
    "pycharm": {
     "name": "#%%\n"
    }
   }
  },
  {
   "cell_type": "code",
   "execution_count": 162,
   "outputs": [],
   "source": [
    "base = \"\"\"\n",
    "v(U) :- e(U,_,_).\n",
    "\n",
    "time(0..max_tour_length).\n",
    "\n",
    "{ visitNodeAtTime(V,T) : v(V), time(T) }.\n",
    "\n",
    "% No gaps between visits\n",
    ":- visitNodeAtTime(_, T2), time(T1), T1<T2, not visitNodeAtTime(_, T1).\n",
    "\n",
    "% No 2 nodes at the same time\n",
    ":- visitNodeAtTime(U,T), visitNodeAtTime(V,T), U<V.\n",
    "\n",
    "% Visited nodes must be linked with edges, and all edges must be visited\n",
    "visited(U,V) :- visitNodeAtTime(U,T), visitNodeAtTime(V,T+1).\n",
    ":- visited(U,V), not e(U,V,_).\n",
    ":- e(U,V,_), not visited(U,V), not visited(V,U).\n",
    "\n",
    "% The tour must be closed, i.e. first and last vertex are the same (choose `1`).\n",
    "tourLength(T) :- time(T), visitNodeAtTime(_,T), not visitNodeAtTime(_,T+1).\n",
    "visitNodeAtTime(1,0).\n",
    "visitNodeAtTime(1,T) :- tourLength(T).\n",
    "\n",
    "% Penalize with weight for every visited edge.\n",
    ":~ visitNodeAtTime(U,T), visitNodeAtTime(V,T+1), e(U,V,C).[C@1, T]\n",
    "\n",
    "#show visitNodeAtTime/2.\n",
    "\"\"\""
   ],
   "metadata": {
    "collapsed": false,
    "pycharm": {
     "name": "#%%\n"
    }
   }
  },
  {
   "cell_type": "code",
   "execution_count": 163,
   "outputs": [
    {
     "name": "stdout",
     "output_type": "stream",
     "text": [
      "\n",
      "Grounding...\n",
      "CPU times: user 392 µs, sys: 0 ns, total: 392 µs\n",
      "Wall time: 322 µs\n",
      "CPU times: user 455 µs, sys: 0 ns, total: 455 µs\n",
      "Wall time: 459 µs\n",
      "\n",
      "Solving...\n",
      "\n",
      "[] visitNodeAtTime(1,0) \n",
      "\n",
      "CPU times: user 161 µs, sys: 0 ns, total: 161 µs\n",
      "Wall time: 164 µs\n"
     ]
    },
    {
     "data": {
      "text/plain": "SolveResult(5)"
     },
     "execution_count": 163,
     "metadata": {},
     "output_type": "execute_result"
    }
   ],
   "source": [
    "ctl = clingo.Control()\n",
    "ctl.configuration.solve.models = 0\n",
    "ctl.add('base', ['max_tour_length'], base)\n",
    "ctl.add('inst1', [], inst1)\n",
    "\n",
    "print('\\nGrounding...')\n",
    "%time ctl.ground([('inst1', [])])\n",
    "%time ctl.ground([('base', [clingo.parse_term('26')])])\n",
    "\n",
    "print('\\nSolving...\\n')\n",
    "%time ctl.solve(on_model=lambda m: print(m.cost, m, '\\n'))"
   ],
   "metadata": {
    "collapsed": false,
    "pycharm": {
     "name": "#%%\n"
    }
   }
  },
  {
   "cell_type": "markdown",
   "source": [
    "# Incremental guess and check"
   ],
   "metadata": {
    "collapsed": false,
    "pycharm": {
     "name": "#%% md\n"
    }
   }
  },
  {
   "cell_type": "code",
   "execution_count": 164,
   "outputs": [],
   "source": [
    "gac1 = \"\"\"\n",
    "\n",
    "#program base.\n",
    "\n",
    "v(U) :- e(U,_,_).\n",
    "v(V) :- e(_,V,_).\n",
    "time(0..3).\n",
    "\n",
    "#program guess.\n",
    "\n",
    "1 { visitNodeAtTime(V,T) : v(V) } 1 :- time(T).\n",
    "\n",
    "#program check.\n",
    "\n",
    "% Visited nodes must be linked with edges, and all edges must be visited\n",
    "%visited(U,V) :- visitNodeAtTime(U,T), visitNodeAtTime(V,T+1).\n",
    "%:- visited(U,V), e(U,V,_).\n",
    "%:- visited(V,U), e(U,V,_).\n",
    "\n",
    "% visitNodeAtTime(1,0)\n",
    "% visitNodeAtTime(3,1)\n",
    "% visitNodeAtTime(1,2)\n",
    "% visitNodeAtTime(1,3)\n",
    "\n",
    "connected(T) :- e(U,V,_), visitNodeAtTime(U,T), visitNodeAtTime(V,T+1).\n",
    "connected(T) :- e(V,U,_), visitNodeAtTime(U,T), visitNodeAtTime(V,T+1).\n",
    "disconnected :- not connected(T), T=0..2.\n",
    "tour :- visitNodeAtTime(1,0), visitNodeAtTime(1,3).\n",
    "bad :- not tour.\n",
    "bad :- disconnected.\n",
    ":- not bad.\n",
    "\n",
    "% Penalize with weight for every visited edge.\n",
    "% :~ visitNodeAtTime(U,T), visitNodeAtTime(V,T+1), e(U,V,C).[C@1, T]\n",
    "\n",
    "\"\"\""
   ],
   "metadata": {
    "collapsed": false,
    "pycharm": {
     "name": "#%%\n"
    }
   }
  },
  {
   "cell_type": "code",
   "execution_count": 165,
   "outputs": [],
   "source": [
    "gac1 = \"\"\"\n",
    "\n",
    "#program base.\n",
    "\n",
    "v(U) :- e(U,_,_).\n",
    "v(V) :- e(_,V,_).\n",
    "time(0..4).\n",
    "\n",
    "#program guess.\n",
    "\n",
    "1 { visitNodeAtTime(V,T) : v(V) } 1 :- time(T).\n",
    "visited(U,V) :- visitNodeAtTime(U,T), visitNodeAtTime(V,T+1).\n",
    "\n",
    "#program check.\n",
    "\n",
    "\n",
    "% Visited nodes must be linked with edges, and all edges must be visited\n",
    "bad :- visited(U,V), not e(U,V,_).\n",
    "bad :- e(U,V,_), not visited(U,V), not visited(V,U).\n",
    "bad :- visited(1,1).\n",
    "\n",
    "% The tour must be closed, i.e. first and last vertex are the same (choose `1`).\n",
    "bad :- not visitNodeAtTime(1,0).\n",
    "bad :- not visitNodeAtTime(1,4).\n",
    "\n",
    "% Penalize with weight for every visited edge.\n",
    "% :~ visitNodeAtTime(U,T), visitNodeAtTime(V,T+1), e(U,V,C).[C@1, T]\n",
    "\n",
    ":- not bad.\n",
    "\n",
    "\"\"\""
   ],
   "metadata": {
    "collapsed": false,
    "pycharm": {
     "name": "#%%\n"
    }
   }
  },
  {
   "cell_type": "code",
   "execution_count": 166,
   "outputs": [
    {
     "name": "stdout",
     "output_type": "stream",
     "text": [
      "visitNodeAtTime(2,2) visitNodeAtTime(3,0) visitNodeAtTime(1,1) visitNodeAtTime(1,3) visitNodeAtTime(1,4)\n",
      "visitNodeAtTime(2,2) visitNodeAtTime(3,0) visitNodeAtTime(3,4) visitNodeAtTime(1,1) visitNodeAtTime(1,3)\n",
      "visitNodeAtTime(2,2) visitNodeAtTime(2,4) visitNodeAtTime(3,0) visitNodeAtTime(1,1) visitNodeAtTime(1,3)\n",
      "visitNodeAtTime(2,0) visitNodeAtTime(2,2) visitNodeAtTime(2,4) visitNodeAtTime(1,1) visitNodeAtTime(1,3)\n",
      "visitNodeAtTime(2,0) visitNodeAtTime(2,2) visitNodeAtTime(1,1) visitNodeAtTime(1,3) visitNodeAtTime(1,4)\n",
      "visitNodeAtTime(2,0) visitNodeAtTime(2,2) visitNodeAtTime(3,4) visitNodeAtTime(1,1) visitNodeAtTime(1,3)\n",
      "visitNodeAtTime(2,2) visitNodeAtTime(3,4) visitNodeAtTime(1,0) visitNodeAtTime(1,1) visitNodeAtTime(1,3)\n",
      "visitNodeAtTime(2,2) visitNodeAtTime(2,4) visitNodeAtTime(1,0) visitNodeAtTime(1,1) visitNodeAtTime(1,3)\n",
      "visitNodeAtTime(2,2) visitNodeAtTime(1,0) visitNodeAtTime(1,1) visitNodeAtTime(1,3) visitNodeAtTime(1,4)\n",
      "visitNodeAtTime(2,2) visitNodeAtTime(2,4) visitNodeAtTime(3,3) visitNodeAtTime(1,0) visitNodeAtTime(1,1)\n",
      "visitNodeAtTime(2,2) visitNodeAtTime(3,3) visitNodeAtTime(1,0) visitNodeAtTime(1,1) visitNodeAtTime(1,4)\n",
      "visitNodeAtTime(2,2) visitNodeAtTime(3,3) visitNodeAtTime(3,4) visitNodeAtTime(1,0) visitNodeAtTime(1,1)\n",
      "visitNodeAtTime(2,2) visitNodeAtTime(3,0) visitNodeAtTime(3,3) visitNodeAtTime(3,4) visitNodeAtTime(1,1)\n",
      "visitNodeAtTime(2,2) visitNodeAtTime(2,4) visitNodeAtTime(3,0) visitNodeAtTime(3,3) visitNodeAtTime(1,1)\n",
      "visitNodeAtTime(2,2) visitNodeAtTime(3,0) visitNodeAtTime(3,3) visitNodeAtTime(1,1) visitNodeAtTime(1,4)\n",
      "visitNodeAtTime(2,0) visitNodeAtTime(2,2) visitNodeAtTime(3,3) visitNodeAtTime(1,1) visitNodeAtTime(1,4)\n",
      "visitNodeAtTime(2,0) visitNodeAtTime(2,2) visitNodeAtTime(3,3) visitNodeAtTime(3,4) visitNodeAtTime(1,1)\n",
      "visitNodeAtTime(2,0) visitNodeAtTime(2,2) visitNodeAtTime(2,4) visitNodeAtTime(3,3) visitNodeAtTime(1,1)\n",
      "visitNodeAtTime(2,2) visitNodeAtTime(2,3) visitNodeAtTime(3,0) visitNodeAtTime(3,4) visitNodeAtTime(1,1)\n",
      "visitNodeAtTime(2,2) visitNodeAtTime(2,3) visitNodeAtTime(3,4) visitNodeAtTime(1,0) visitNodeAtTime(1,1)\n",
      "visitNodeAtTime(2,2) visitNodeAtTime(2,3) visitNodeAtTime(2,4) visitNodeAtTime(3,0) visitNodeAtTime(1,1)\n",
      "visitNodeAtTime(2,2) visitNodeAtTime(2,3) visitNodeAtTime(2,4) visitNodeAtTime(1,0) visitNodeAtTime(1,1)\n",
      "visitNodeAtTime(2,0) visitNodeAtTime(2,2) visitNodeAtTime(2,3) visitNodeAtTime(3,4) visitNodeAtTime(1,1)\n",
      "visitNodeAtTime(2,0) visitNodeAtTime(2,2) visitNodeAtTime(2,3) visitNodeAtTime(2,4) visitNodeAtTime(1,1)\n",
      "visitNodeAtTime(2,2) visitNodeAtTime(2,3) visitNodeAtTime(3,0) visitNodeAtTime(1,1) visitNodeAtTime(1,4)\n",
      "visitNodeAtTime(2,0) visitNodeAtTime(2,2) visitNodeAtTime(2,3) visitNodeAtTime(1,1) visitNodeAtTime(1,4)\n",
      "visitNodeAtTime(2,2) visitNodeAtTime(2,3) visitNodeAtTime(1,0) visitNodeAtTime(1,1) visitNodeAtTime(1,4)\n",
      "visitNodeAtTime(3,4) visitNodeAtTime(1,0) visitNodeAtTime(1,1) visitNodeAtTime(1,2) visitNodeAtTime(1,3)\n",
      "visitNodeAtTime(2,4) visitNodeAtTime(1,0) visitNodeAtTime(1,1) visitNodeAtTime(1,2) visitNodeAtTime(1,3)\n",
      "visitNodeAtTime(3,0) visitNodeAtTime(3,4) visitNodeAtTime(1,1) visitNodeAtTime(1,2) visitNodeAtTime(1,3)\n",
      "visitNodeAtTime(2,4) visitNodeAtTime(3,0) visitNodeAtTime(1,1) visitNodeAtTime(1,2) visitNodeAtTime(1,3)\n",
      "visitNodeAtTime(1,0) visitNodeAtTime(1,1) visitNodeAtTime(1,2) visitNodeAtTime(1,3) visitNodeAtTime(1,4)\n",
      "visitNodeAtTime(3,0) visitNodeAtTime(1,1) visitNodeAtTime(1,2) visitNodeAtTime(1,3) visitNodeAtTime(1,4)\n",
      "visitNodeAtTime(2,0) visitNodeAtTime(2,4) visitNodeAtTime(1,1) visitNodeAtTime(1,2) visitNodeAtTime(1,3)\n",
      "visitNodeAtTime(2,0) visitNodeAtTime(1,1) visitNodeAtTime(1,2) visitNodeAtTime(1,3) visitNodeAtTime(1,4)\n",
      "visitNodeAtTime(2,0) visitNodeAtTime(3,4) visitNodeAtTime(1,1) visitNodeAtTime(1,2) visitNodeAtTime(1,3)\n",
      "visitNodeAtTime(3,3) visitNodeAtTime(3,4) visitNodeAtTime(1,0) visitNodeAtTime(1,1) visitNodeAtTime(1,2)\n",
      "visitNodeAtTime(3,0) visitNodeAtTime(3,3) visitNodeAtTime(3,4) visitNodeAtTime(1,1) visitNodeAtTime(1,2)\n",
      "visitNodeAtTime(2,4) visitNodeAtTime(3,3) visitNodeAtTime(1,0) visitNodeAtTime(1,1) visitNodeAtTime(1,2)\n",
      "visitNodeAtTime(2,4) visitNodeAtTime(3,0) visitNodeAtTime(3,3) visitNodeAtTime(1,1) visitNodeAtTime(1,2)\n",
      "visitNodeAtTime(2,0) visitNodeAtTime(3,3) visitNodeAtTime(3,4) visitNodeAtTime(1,1) visitNodeAtTime(1,2)\n",
      "visitNodeAtTime(2,0) visitNodeAtTime(2,4) visitNodeAtTime(3,3) visitNodeAtTime(1,1) visitNodeAtTime(1,2)\n",
      "visitNodeAtTime(3,0) visitNodeAtTime(3,3) visitNodeAtTime(1,1) visitNodeAtTime(1,2) visitNodeAtTime(1,4)\n",
      "visitNodeAtTime(2,0) visitNodeAtTime(3,3) visitNodeAtTime(1,1) visitNodeAtTime(1,2) visitNodeAtTime(1,4)\n",
      "visitNodeAtTime(3,3) visitNodeAtTime(1,0) visitNodeAtTime(1,1) visitNodeAtTime(1,2) visitNodeAtTime(1,4)\n",
      "visitNodeAtTime(2,3) visitNodeAtTime(3,4) visitNodeAtTime(1,0) visitNodeAtTime(1,1) visitNodeAtTime(1,2)\n",
      "visitNodeAtTime(2,3) visitNodeAtTime(2,4) visitNodeAtTime(1,0) visitNodeAtTime(1,1) visitNodeAtTime(1,2)\n",
      "visitNodeAtTime(2,3) visitNodeAtTime(3,0) visitNodeAtTime(3,4) visitNodeAtTime(1,1) visitNodeAtTime(1,2)\n",
      "visitNodeAtTime(2,3) visitNodeAtTime(2,4) visitNodeAtTime(3,0) visitNodeAtTime(1,1) visitNodeAtTime(1,2)\n",
      "visitNodeAtTime(2,3) visitNodeAtTime(1,0) visitNodeAtTime(1,1) visitNodeAtTime(1,2) visitNodeAtTime(1,4)\n",
      "visitNodeAtTime(2,3) visitNodeAtTime(3,0) visitNodeAtTime(1,1) visitNodeAtTime(1,2) visitNodeAtTime(1,4)\n",
      "visitNodeAtTime(2,0) visitNodeAtTime(2,3) visitNodeAtTime(2,4) visitNodeAtTime(1,1) visitNodeAtTime(1,2)\n",
      "visitNodeAtTime(2,0) visitNodeAtTime(2,3) visitNodeAtTime(1,1) visitNodeAtTime(1,2) visitNodeAtTime(1,4)\n",
      "visitNodeAtTime(2,0) visitNodeAtTime(2,3) visitNodeAtTime(3,4) visitNodeAtTime(1,1) visitNodeAtTime(1,2)\n",
      "visitNodeAtTime(3,2) visitNodeAtTime(3,4) visitNodeAtTime(1,0) visitNodeAtTime(1,1) visitNodeAtTime(1,3)\n",
      "visitNodeAtTime(3,0) visitNodeAtTime(3,2) visitNodeAtTime(3,4) visitNodeAtTime(1,1) visitNodeAtTime(1,3)\n",
      "visitNodeAtTime(2,4) visitNodeAtTime(3,2) visitNodeAtTime(1,0) visitNodeAtTime(1,1) visitNodeAtTime(1,3)\n",
      "visitNodeAtTime(2,4) visitNodeAtTime(3,0) visitNodeAtTime(3,2) visitNodeAtTime(1,1) visitNodeAtTime(1,3)\n",
      "visitNodeAtTime(2,0) visitNodeAtTime(3,2) visitNodeAtTime(3,4) visitNodeAtTime(1,1) visitNodeAtTime(1,3)\n",
      "visitNodeAtTime(2,0) visitNodeAtTime(2,4) visitNodeAtTime(3,2) visitNodeAtTime(1,1) visitNodeAtTime(1,3)\n",
      "visitNodeAtTime(3,0) visitNodeAtTime(3,2) visitNodeAtTime(1,1) visitNodeAtTime(1,3) visitNodeAtTime(1,4)\n",
      "visitNodeAtTime(2,0) visitNodeAtTime(3,2) visitNodeAtTime(1,1) visitNodeAtTime(1,3) visitNodeAtTime(1,4)\n",
      "visitNodeAtTime(3,2) visitNodeAtTime(1,0) visitNodeAtTime(1,1) visitNodeAtTime(1,3) visitNodeAtTime(1,4)\n",
      "visitNodeAtTime(3,2) visitNodeAtTime(3,3) visitNodeAtTime(3,4) visitNodeAtTime(1,0) visitNodeAtTime(1,1)\n",
      "visitNodeAtTime(2,4) visitNodeAtTime(3,2) visitNodeAtTime(3,3) visitNodeAtTime(1,0) visitNodeAtTime(1,1)\n",
      "visitNodeAtTime(3,0) visitNodeAtTime(3,2) visitNodeAtTime(3,3) visitNodeAtTime(3,4) visitNodeAtTime(1,1)\n",
      "visitNodeAtTime(2,4) visitNodeAtTime(3,0) visitNodeAtTime(3,2) visitNodeAtTime(3,3) visitNodeAtTime(1,1)\n",
      "visitNodeAtTime(3,2) visitNodeAtTime(3,3) visitNodeAtTime(1,0) visitNodeAtTime(1,1) visitNodeAtTime(1,4)\n",
      "visitNodeAtTime(3,0) visitNodeAtTime(3,2) visitNodeAtTime(3,3) visitNodeAtTime(1,1) visitNodeAtTime(1,4)\n",
      "visitNodeAtTime(2,0) visitNodeAtTime(2,4) visitNodeAtTime(3,2) visitNodeAtTime(3,3) visitNodeAtTime(1,1)\n",
      "visitNodeAtTime(2,0) visitNodeAtTime(3,2) visitNodeAtTime(3,3) visitNodeAtTime(1,1) visitNodeAtTime(1,4)\n",
      "visitNodeAtTime(2,0) visitNodeAtTime(3,2) visitNodeAtTime(3,3) visitNodeAtTime(3,4) visitNodeAtTime(1,1)\n",
      "visitNodeAtTime(2,3) visitNodeAtTime(3,2) visitNodeAtTime(3,4) visitNodeAtTime(1,0) visitNodeAtTime(1,1)\n",
      "visitNodeAtTime(2,3) visitNodeAtTime(3,0) visitNodeAtTime(3,2) visitNodeAtTime(3,4) visitNodeAtTime(1,1)\n",
      "visitNodeAtTime(2,3) visitNodeAtTime(2,4) visitNodeAtTime(3,2) visitNodeAtTime(1,0) visitNodeAtTime(1,1)\n",
      "visitNodeAtTime(2,3) visitNodeAtTime(2,4) visitNodeAtTime(3,0) visitNodeAtTime(3,2) visitNodeAtTime(1,1)\n",
      "visitNodeAtTime(2,0) visitNodeAtTime(2,3) visitNodeAtTime(3,2) visitNodeAtTime(3,4) visitNodeAtTime(1,1)\n",
      "visitNodeAtTime(2,0) visitNodeAtTime(2,3) visitNodeAtTime(2,4) visitNodeAtTime(3,2) visitNodeAtTime(1,1)\n",
      "visitNodeAtTime(2,3) visitNodeAtTime(3,0) visitNodeAtTime(3,2) visitNodeAtTime(1,1) visitNodeAtTime(1,4)\n",
      "visitNodeAtTime(2,0) visitNodeAtTime(2,3) visitNodeAtTime(3,2) visitNodeAtTime(1,1) visitNodeAtTime(1,4)\n",
      "visitNodeAtTime(2,3) visitNodeAtTime(3,2) visitNodeAtTime(1,0) visitNodeAtTime(1,1) visitNodeAtTime(1,4)\n",
      "visitNodeAtTime(2,4) visitNodeAtTime(3,1) visitNodeAtTime(1,0) visitNodeAtTime(1,2) visitNodeAtTime(1,3)\n",
      "visitNodeAtTime(3,1) visitNodeAtTime(3,4) visitNodeAtTime(1,0) visitNodeAtTime(1,2) visitNodeAtTime(1,3)\n",
      "visitNodeAtTime(2,4) visitNodeAtTime(3,0) visitNodeAtTime(3,1) visitNodeAtTime(1,2) visitNodeAtTime(1,3)\n",
      "visitNodeAtTime(3,0) visitNodeAtTime(3,1) visitNodeAtTime(3,4) visitNodeAtTime(1,2) visitNodeAtTime(1,3)\n",
      "visitNodeAtTime(3,1) visitNodeAtTime(1,0) visitNodeAtTime(1,2) visitNodeAtTime(1,3) visitNodeAtTime(1,4)\n",
      "visitNodeAtTime(3,0) visitNodeAtTime(3,1) visitNodeAtTime(1,2) visitNodeAtTime(1,3) visitNodeAtTime(1,4)\n",
      "visitNodeAtTime(2,0) visitNodeAtTime(2,4) visitNodeAtTime(3,1) visitNodeAtTime(1,2) visitNodeAtTime(1,3)\n",
      "visitNodeAtTime(2,0) visitNodeAtTime(3,1) visitNodeAtTime(1,2) visitNodeAtTime(1,3) visitNodeAtTime(1,4)\n",
      "visitNodeAtTime(2,0) visitNodeAtTime(3,1) visitNodeAtTime(3,4) visitNodeAtTime(1,2) visitNodeAtTime(1,3)\n",
      "visitNodeAtTime(3,1) visitNodeAtTime(3,3) visitNodeAtTime(3,4) visitNodeAtTime(1,0) visitNodeAtTime(1,2)\n",
      "visitNodeAtTime(3,0) visitNodeAtTime(3,1) visitNodeAtTime(3,3) visitNodeAtTime(3,4) visitNodeAtTime(1,2)\n",
      "visitNodeAtTime(2,4) visitNodeAtTime(3,1) visitNodeAtTime(3,3) visitNodeAtTime(1,0) visitNodeAtTime(1,2)\n",
      "visitNodeAtTime(2,4) visitNodeAtTime(3,0) visitNodeAtTime(3,1) visitNodeAtTime(3,3) visitNodeAtTime(1,2)\n",
      "visitNodeAtTime(2,0) visitNodeAtTime(3,1) visitNodeAtTime(3,3) visitNodeAtTime(3,4) visitNodeAtTime(1,2)\n",
      "visitNodeAtTime(2,0) visitNodeAtTime(2,4) visitNodeAtTime(3,1) visitNodeAtTime(3,3) visitNodeAtTime(1,2)\n",
      "visitNodeAtTime(3,0) visitNodeAtTime(3,1) visitNodeAtTime(3,3) visitNodeAtTime(1,2) visitNodeAtTime(1,4)\n",
      "visitNodeAtTime(2,0) visitNodeAtTime(3,1) visitNodeAtTime(3,3) visitNodeAtTime(1,2) visitNodeAtTime(1,4)\n",
      "visitNodeAtTime(3,1) visitNodeAtTime(3,3) visitNodeAtTime(1,0) visitNodeAtTime(1,2) visitNodeAtTime(1,4)\n",
      "visitNodeAtTime(2,3) visitNodeAtTime(3,1) visitNodeAtTime(3,4) visitNodeAtTime(1,0) visitNodeAtTime(1,2)\n",
      "visitNodeAtTime(2,3) visitNodeAtTime(2,4) visitNodeAtTime(3,1) visitNodeAtTime(1,0) visitNodeAtTime(1,2)\n",
      "visitNodeAtTime(2,3) visitNodeAtTime(3,0) visitNodeAtTime(3,1) visitNodeAtTime(3,4) visitNodeAtTime(1,2)\n",
      "visitNodeAtTime(2,3) visitNodeAtTime(2,4) visitNodeAtTime(3,0) visitNodeAtTime(3,1) visitNodeAtTime(1,2)\n",
      "visitNodeAtTime(2,3) visitNodeAtTime(3,1) visitNodeAtTime(1,0) visitNodeAtTime(1,2) visitNodeAtTime(1,4)\n",
      "visitNodeAtTime(2,3) visitNodeAtTime(3,0) visitNodeAtTime(3,1) visitNodeAtTime(1,2) visitNodeAtTime(1,4)\n",
      "visitNodeAtTime(2,0) visitNodeAtTime(2,3) visitNodeAtTime(2,4) visitNodeAtTime(3,1) visitNodeAtTime(1,2)\n",
      "visitNodeAtTime(2,0) visitNodeAtTime(2,3) visitNodeAtTime(3,1) visitNodeAtTime(1,2) visitNodeAtTime(1,4)\n",
      "visitNodeAtTime(2,0) visitNodeAtTime(2,3) visitNodeAtTime(3,1) visitNodeAtTime(3,4) visitNodeAtTime(1,2)\n",
      "visitNodeAtTime(2,2) visitNodeAtTime(3,1) visitNodeAtTime(3,4) visitNodeAtTime(1,0) visitNodeAtTime(1,3)\n",
      "visitNodeAtTime(2,2) visitNodeAtTime(3,0) visitNodeAtTime(3,1) visitNodeAtTime(3,4) visitNodeAtTime(1,3)\n",
      "visitNodeAtTime(2,2) visitNodeAtTime(2,4) visitNodeAtTime(3,1) visitNodeAtTime(1,0) visitNodeAtTime(1,3)\n",
      "visitNodeAtTime(2,2) visitNodeAtTime(2,4) visitNodeAtTime(3,0) visitNodeAtTime(3,1) visitNodeAtTime(1,3)\n",
      "visitNodeAtTime(2,0) visitNodeAtTime(2,2) visitNodeAtTime(3,1) visitNodeAtTime(3,4) visitNodeAtTime(1,3)\n",
      "visitNodeAtTime(2,0) visitNodeAtTime(2,2) visitNodeAtTime(2,4) visitNodeAtTime(3,1) visitNodeAtTime(1,3)\n",
      "visitNodeAtTime(2,2) visitNodeAtTime(3,0) visitNodeAtTime(3,1) visitNodeAtTime(1,3) visitNodeAtTime(1,4)\n",
      "visitNodeAtTime(2,0) visitNodeAtTime(2,2) visitNodeAtTime(3,1) visitNodeAtTime(1,3) visitNodeAtTime(1,4)\n",
      "visitNodeAtTime(2,2) visitNodeAtTime(3,1) visitNodeAtTime(1,0) visitNodeAtTime(1,3) visitNodeAtTime(1,4)\n",
      "visitNodeAtTime(2,2) visitNodeAtTime(3,1) visitNodeAtTime(3,3) visitNodeAtTime(3,4) visitNodeAtTime(1,0)\n",
      "visitNodeAtTime(2,2) visitNodeAtTime(2,4) visitNodeAtTime(3,1) visitNodeAtTime(3,3) visitNodeAtTime(1,0)\n",
      "visitNodeAtTime(2,2) visitNodeAtTime(3,0) visitNodeAtTime(3,1) visitNodeAtTime(3,3) visitNodeAtTime(3,4)\n",
      "visitNodeAtTime(2,2) visitNodeAtTime(2,4) visitNodeAtTime(3,0) visitNodeAtTime(3,1) visitNodeAtTime(3,3)\n",
      "visitNodeAtTime(2,2) visitNodeAtTime(3,1) visitNodeAtTime(3,3) visitNodeAtTime(1,0) visitNodeAtTime(1,4)\n",
      "visitNodeAtTime(2,2) visitNodeAtTime(3,0) visitNodeAtTime(3,1) visitNodeAtTime(3,3) visitNodeAtTime(1,4)\n",
      "visitNodeAtTime(2,0) visitNodeAtTime(2,2) visitNodeAtTime(2,4) visitNodeAtTime(3,1) visitNodeAtTime(3,3)\n",
      "visitNodeAtTime(2,0) visitNodeAtTime(2,2) visitNodeAtTime(3,1) visitNodeAtTime(3,3) visitNodeAtTime(1,4)\n",
      "visitNodeAtTime(2,0) visitNodeAtTime(2,2) visitNodeAtTime(3,1) visitNodeAtTime(3,3) visitNodeAtTime(3,4)\n",
      "visitNodeAtTime(2,2) visitNodeAtTime(2,3) visitNodeAtTime(3,1) visitNodeAtTime(3,4) visitNodeAtTime(1,0)\n",
      "visitNodeAtTime(2,2) visitNodeAtTime(2,3) visitNodeAtTime(3,0) visitNodeAtTime(3,1) visitNodeAtTime(3,4)\n",
      "visitNodeAtTime(2,2) visitNodeAtTime(2,3) visitNodeAtTime(2,4) visitNodeAtTime(3,1) visitNodeAtTime(1,0)\n",
      "visitNodeAtTime(2,2) visitNodeAtTime(2,3) visitNodeAtTime(2,4) visitNodeAtTime(3,0) visitNodeAtTime(3,1)\n",
      "visitNodeAtTime(2,0) visitNodeAtTime(2,2) visitNodeAtTime(2,3) visitNodeAtTime(3,1) visitNodeAtTime(3,4)\n",
      "visitNodeAtTime(2,0) visitNodeAtTime(2,2) visitNodeAtTime(2,3) visitNodeAtTime(2,4) visitNodeAtTime(3,1)\n",
      "visitNodeAtTime(2,2) visitNodeAtTime(2,3) visitNodeAtTime(3,0) visitNodeAtTime(3,1) visitNodeAtTime(1,4)\n",
      "visitNodeAtTime(2,0) visitNodeAtTime(2,2) visitNodeAtTime(2,3) visitNodeAtTime(3,1) visitNodeAtTime(1,4)\n",
      "visitNodeAtTime(2,2) visitNodeAtTime(2,3) visitNodeAtTime(3,1) visitNodeAtTime(1,0) visitNodeAtTime(1,4)\n",
      "visitNodeAtTime(3,1) visitNodeAtTime(3,2) visitNodeAtTime(3,4) visitNodeAtTime(1,0) visitNodeAtTime(1,3)\n",
      "visitNodeAtTime(2,4) visitNodeAtTime(3,1) visitNodeAtTime(3,2) visitNodeAtTime(1,0) visitNodeAtTime(1,3)\n",
      "visitNodeAtTime(3,0) visitNodeAtTime(3,1) visitNodeAtTime(3,2) visitNodeAtTime(3,4) visitNodeAtTime(1,3)\n",
      "visitNodeAtTime(2,4) visitNodeAtTime(3,0) visitNodeAtTime(3,1) visitNodeAtTime(3,2) visitNodeAtTime(1,3)\n",
      "visitNodeAtTime(3,1) visitNodeAtTime(3,2) visitNodeAtTime(1,0) visitNodeAtTime(1,3) visitNodeAtTime(1,4)\n",
      "visitNodeAtTime(3,0) visitNodeAtTime(3,1) visitNodeAtTime(3,2) visitNodeAtTime(1,3) visitNodeAtTime(1,4)\n",
      "visitNodeAtTime(2,0) visitNodeAtTime(2,4) visitNodeAtTime(3,1) visitNodeAtTime(3,2) visitNodeAtTime(1,3)\n",
      "visitNodeAtTime(2,0) visitNodeAtTime(3,1) visitNodeAtTime(3,2) visitNodeAtTime(1,3) visitNodeAtTime(1,4)\n",
      "visitNodeAtTime(2,0) visitNodeAtTime(3,1) visitNodeAtTime(3,2) visitNodeAtTime(3,4) visitNodeAtTime(1,3)\n",
      "visitNodeAtTime(3,1) visitNodeAtTime(3,2) visitNodeAtTime(3,3) visitNodeAtTime(3,4) visitNodeAtTime(1,0)\n",
      "visitNodeAtTime(3,0) visitNodeAtTime(3,1) visitNodeAtTime(3,2) visitNodeAtTime(3,3) visitNodeAtTime(3,4)\n",
      "visitNodeAtTime(2,4) visitNodeAtTime(3,1) visitNodeAtTime(3,2) visitNodeAtTime(3,3) visitNodeAtTime(1,0)\n",
      "visitNodeAtTime(2,4) visitNodeAtTime(3,0) visitNodeAtTime(3,1) visitNodeAtTime(3,2) visitNodeAtTime(3,3)\n",
      "visitNodeAtTime(2,0) visitNodeAtTime(3,1) visitNodeAtTime(3,2) visitNodeAtTime(3,3) visitNodeAtTime(3,4)\n",
      "visitNodeAtTime(2,0) visitNodeAtTime(2,4) visitNodeAtTime(3,1) visitNodeAtTime(3,2) visitNodeAtTime(3,3)\n",
      "visitNodeAtTime(3,0) visitNodeAtTime(3,1) visitNodeAtTime(3,2) visitNodeAtTime(3,3) visitNodeAtTime(1,4)\n",
      "visitNodeAtTime(2,0) visitNodeAtTime(3,1) visitNodeAtTime(3,2) visitNodeAtTime(3,3) visitNodeAtTime(1,4)\n",
      "visitNodeAtTime(3,1) visitNodeAtTime(3,2) visitNodeAtTime(3,3) visitNodeAtTime(1,0) visitNodeAtTime(1,4)\n",
      "visitNodeAtTime(2,3) visitNodeAtTime(3,1) visitNodeAtTime(3,2) visitNodeAtTime(3,4) visitNodeAtTime(1,0)\n",
      "visitNodeAtTime(2,3) visitNodeAtTime(2,4) visitNodeAtTime(3,1) visitNodeAtTime(3,2) visitNodeAtTime(1,0)\n",
      "visitNodeAtTime(2,3) visitNodeAtTime(3,0) visitNodeAtTime(3,1) visitNodeAtTime(3,2) visitNodeAtTime(3,4)\n",
      "visitNodeAtTime(2,3) visitNodeAtTime(2,4) visitNodeAtTime(3,0) visitNodeAtTime(3,1) visitNodeAtTime(3,2)\n",
      "visitNodeAtTime(2,3) visitNodeAtTime(3,1) visitNodeAtTime(3,2) visitNodeAtTime(1,0) visitNodeAtTime(1,4)\n",
      "visitNodeAtTime(2,3) visitNodeAtTime(3,0) visitNodeAtTime(3,1) visitNodeAtTime(3,2) visitNodeAtTime(1,4)\n",
      "visitNodeAtTime(2,0) visitNodeAtTime(2,3) visitNodeAtTime(2,4) visitNodeAtTime(3,1) visitNodeAtTime(3,2)\n",
      "visitNodeAtTime(2,0) visitNodeAtTime(2,3) visitNodeAtTime(3,1) visitNodeAtTime(3,2) visitNodeAtTime(1,4)\n",
      "visitNodeAtTime(2,0) visitNodeAtTime(2,3) visitNodeAtTime(3,1) visitNodeAtTime(3,2) visitNodeAtTime(3,4)\n",
      "visitNodeAtTime(2,1) visitNodeAtTime(3,0) visitNodeAtTime(3,4) visitNodeAtTime(1,2) visitNodeAtTime(1,3)\n",
      "visitNodeAtTime(2,1) visitNodeAtTime(2,4) visitNodeAtTime(3,0) visitNodeAtTime(1,2) visitNodeAtTime(1,3)\n",
      "visitNodeAtTime(2,0) visitNodeAtTime(2,1) visitNodeAtTime(3,4) visitNodeAtTime(1,2) visitNodeAtTime(1,3)\n",
      "visitNodeAtTime(2,0) visitNodeAtTime(2,1) visitNodeAtTime(2,4) visitNodeAtTime(1,2) visitNodeAtTime(1,3)\n",
      "visitNodeAtTime(2,1) visitNodeAtTime(3,0) visitNodeAtTime(1,2) visitNodeAtTime(1,3) visitNodeAtTime(1,4)\n",
      "visitNodeAtTime(2,0) visitNodeAtTime(2,1) visitNodeAtTime(1,2) visitNodeAtTime(1,3) visitNodeAtTime(1,4)\n",
      "visitNodeAtTime(2,1) visitNodeAtTime(3,4) visitNodeAtTime(1,0) visitNodeAtTime(1,2) visitNodeAtTime(1,3)\n",
      "visitNodeAtTime(2,1) visitNodeAtTime(2,4) visitNodeAtTime(1,0) visitNodeAtTime(1,2) visitNodeAtTime(1,3)\n",
      "visitNodeAtTime(2,1) visitNodeAtTime(1,0) visitNodeAtTime(1,2) visitNodeAtTime(1,3) visitNodeAtTime(1,4)\n",
      "visitNodeAtTime(2,0) visitNodeAtTime(2,1) visitNodeAtTime(3,3) visitNodeAtTime(1,2) visitNodeAtTime(1,4)\n",
      "visitNodeAtTime(2,1) visitNodeAtTime(3,3) visitNodeAtTime(1,0) visitNodeAtTime(1,2) visitNodeAtTime(1,4)\n",
      "visitNodeAtTime(2,1) visitNodeAtTime(3,0) visitNodeAtTime(3,3) visitNodeAtTime(1,2) visitNodeAtTime(1,4)\n",
      "visitNodeAtTime(2,1) visitNodeAtTime(3,0) visitNodeAtTime(3,3) visitNodeAtTime(3,4) visitNodeAtTime(1,2)\n",
      "visitNodeAtTime(2,0) visitNodeAtTime(2,1) visitNodeAtTime(3,3) visitNodeAtTime(3,4) visitNodeAtTime(1,2)\n",
      "visitNodeAtTime(2,1) visitNodeAtTime(3,3) visitNodeAtTime(3,4) visitNodeAtTime(1,0) visitNodeAtTime(1,2)\n",
      "visitNodeAtTime(2,1) visitNodeAtTime(2,4) visitNodeAtTime(3,3) visitNodeAtTime(1,0) visitNodeAtTime(1,2)\n",
      "visitNodeAtTime(2,1) visitNodeAtTime(2,4) visitNodeAtTime(3,0) visitNodeAtTime(3,3) visitNodeAtTime(1,2)\n",
      "visitNodeAtTime(2,0) visitNodeAtTime(2,1) visitNodeAtTime(2,4) visitNodeAtTime(3,3) visitNodeAtTime(1,2)\n",
      "visitNodeAtTime(2,1) visitNodeAtTime(2,3) visitNodeAtTime(2,4) visitNodeAtTime(3,0) visitNodeAtTime(1,2)\n",
      "visitNodeAtTime(2,0) visitNodeAtTime(2,1) visitNodeAtTime(2,3) visitNodeAtTime(2,4) visitNodeAtTime(1,2)\n",
      "visitNodeAtTime(2,1) visitNodeAtTime(2,3) visitNodeAtTime(2,4) visitNodeAtTime(1,0) visitNodeAtTime(1,2)\n",
      "visitNodeAtTime(2,1) visitNodeAtTime(2,3) visitNodeAtTime(1,0) visitNodeAtTime(1,2) visitNodeAtTime(1,4)\n",
      "visitNodeAtTime(2,1) visitNodeAtTime(2,3) visitNodeAtTime(3,0) visitNodeAtTime(1,2) visitNodeAtTime(1,4)\n",
      "visitNodeAtTime(2,0) visitNodeAtTime(2,1) visitNodeAtTime(2,3) visitNodeAtTime(1,2) visitNodeAtTime(1,4)\n",
      "visitNodeAtTime(2,0) visitNodeAtTime(2,1) visitNodeAtTime(2,3) visitNodeAtTime(3,4) visitNodeAtTime(1,2)\n",
      "visitNodeAtTime(2,1) visitNodeAtTime(2,3) visitNodeAtTime(3,4) visitNodeAtTime(1,0) visitNodeAtTime(1,2)\n",
      "visitNodeAtTime(2,1) visitNodeAtTime(2,3) visitNodeAtTime(3,0) visitNodeAtTime(3,4) visitNodeAtTime(1,2)\n",
      "visitNodeAtTime(2,1) visitNodeAtTime(2,2) visitNodeAtTime(1,0) visitNodeAtTime(1,3) visitNodeAtTime(1,4)\n",
      "visitNodeAtTime(2,1) visitNodeAtTime(2,2) visitNodeAtTime(2,4) visitNodeAtTime(1,0) visitNodeAtTime(1,3)\n",
      "visitNodeAtTime(2,1) visitNodeAtTime(2,2) visitNodeAtTime(3,0) visitNodeAtTime(1,3) visitNodeAtTime(1,4)\n",
      "visitNodeAtTime(2,1) visitNodeAtTime(2,2) visitNodeAtTime(2,4) visitNodeAtTime(3,0) visitNodeAtTime(1,3)\n",
      "visitNodeAtTime(2,1) visitNodeAtTime(2,2) visitNodeAtTime(3,0) visitNodeAtTime(3,4) visitNodeAtTime(1,3)\n",
      "visitNodeAtTime(2,1) visitNodeAtTime(2,2) visitNodeAtTime(3,4) visitNodeAtTime(1,0) visitNodeAtTime(1,3)\n",
      "visitNodeAtTime(2,0) visitNodeAtTime(2,1) visitNodeAtTime(2,2) visitNodeAtTime(1,3) visitNodeAtTime(1,4)\n",
      "visitNodeAtTime(2,0) visitNodeAtTime(2,1) visitNodeAtTime(2,2) visitNodeAtTime(2,4) visitNodeAtTime(1,3)\n",
      "visitNodeAtTime(2,0) visitNodeAtTime(2,1) visitNodeAtTime(2,2) visitNodeAtTime(3,4) visitNodeAtTime(1,3)\n",
      "visitNodeAtTime(2,1) visitNodeAtTime(2,2) visitNodeAtTime(3,3) visitNodeAtTime(3,4) visitNodeAtTime(1,0)\n",
      "visitNodeAtTime(2,1) visitNodeAtTime(2,2) visitNodeAtTime(3,0) visitNodeAtTime(3,3) visitNodeAtTime(3,4)\n",
      "visitNodeAtTime(2,0) visitNodeAtTime(2,1) visitNodeAtTime(2,2) visitNodeAtTime(3,3) visitNodeAtTime(3,4)\n",
      "visitNodeAtTime(2,0) visitNodeAtTime(2,1) visitNodeAtTime(2,2) visitNodeAtTime(3,3) visitNodeAtTime(1,4)\n",
      "visitNodeAtTime(2,1) visitNodeAtTime(2,2) visitNodeAtTime(3,3) visitNodeAtTime(1,0) visitNodeAtTime(1,4)\n",
      "visitNodeAtTime(2,1) visitNodeAtTime(2,2) visitNodeAtTime(3,0) visitNodeAtTime(3,3) visitNodeAtTime(1,4)\n",
      "visitNodeAtTime(2,1) visitNodeAtTime(2,2) visitNodeAtTime(2,4) visitNodeAtTime(3,0) visitNodeAtTime(3,3)\n",
      "visitNodeAtTime(2,0) visitNodeAtTime(2,1) visitNodeAtTime(2,2) visitNodeAtTime(2,4) visitNodeAtTime(3,3)\n",
      "visitNodeAtTime(2,1) visitNodeAtTime(2,2) visitNodeAtTime(2,4) visitNodeAtTime(3,3) visitNodeAtTime(1,0)\n",
      "visitNodeAtTime(2,0) visitNodeAtTime(2,1) visitNodeAtTime(2,2) visitNodeAtTime(2,3) visitNodeAtTime(2,4)\n",
      "visitNodeAtTime(2,1) visitNodeAtTime(2,2) visitNodeAtTime(2,3) visitNodeAtTime(2,4) visitNodeAtTime(1,0)\n",
      "visitNodeAtTime(2,1) visitNodeAtTime(2,2) visitNodeAtTime(2,3) visitNodeAtTime(2,4) visitNodeAtTime(3,0)\n",
      "visitNodeAtTime(2,1) visitNodeAtTime(2,2) visitNodeAtTime(2,3) visitNodeAtTime(3,0) visitNodeAtTime(3,4)\n",
      "visitNodeAtTime(2,0) visitNodeAtTime(2,1) visitNodeAtTime(2,2) visitNodeAtTime(2,3) visitNodeAtTime(3,4)\n",
      "visitNodeAtTime(2,1) visitNodeAtTime(2,2) visitNodeAtTime(2,3) visitNodeAtTime(3,4) visitNodeAtTime(1,0)\n",
      "visitNodeAtTime(2,1) visitNodeAtTime(2,2) visitNodeAtTime(2,3) visitNodeAtTime(1,0) visitNodeAtTime(1,4)\n",
      "visitNodeAtTime(2,1) visitNodeAtTime(2,2) visitNodeAtTime(2,3) visitNodeAtTime(3,0) visitNodeAtTime(1,4)\n",
      "visitNodeAtTime(2,0) visitNodeAtTime(2,1) visitNodeAtTime(2,2) visitNodeAtTime(2,3) visitNodeAtTime(1,4)\n",
      "visitNodeAtTime(2,1) visitNodeAtTime(3,0) visitNodeAtTime(3,2) visitNodeAtTime(3,4) visitNodeAtTime(1,3)\n",
      "visitNodeAtTime(2,1) visitNodeAtTime(2,4) visitNodeAtTime(3,0) visitNodeAtTime(3,2) visitNodeAtTime(1,3)\n",
      "visitNodeAtTime(2,0) visitNodeAtTime(2,1) visitNodeAtTime(3,2) visitNodeAtTime(3,4) visitNodeAtTime(1,3)\n",
      "visitNodeAtTime(2,0) visitNodeAtTime(2,1) visitNodeAtTime(2,4) visitNodeAtTime(3,2) visitNodeAtTime(1,3)\n",
      "visitNodeAtTime(2,0) visitNodeAtTime(2,1) visitNodeAtTime(3,2) visitNodeAtTime(1,3) visitNodeAtTime(1,4)\n",
      "visitNodeAtTime(2,1) visitNodeAtTime(3,0) visitNodeAtTime(3,2) visitNodeAtTime(1,3) visitNodeAtTime(1,4)\n",
      "visitNodeAtTime(2,1) visitNodeAtTime(3,2) visitNodeAtTime(3,4) visitNodeAtTime(1,0) visitNodeAtTime(1,3)\n",
      "visitNodeAtTime(2,1) visitNodeAtTime(2,4) visitNodeAtTime(3,2) visitNodeAtTime(1,0) visitNodeAtTime(1,3)\n",
      "visitNodeAtTime(2,1) visitNodeAtTime(3,2) visitNodeAtTime(1,0) visitNodeAtTime(1,3) visitNodeAtTime(1,4)\n",
      "visitNodeAtTime(2,1) visitNodeAtTime(3,0) visitNodeAtTime(3,2) visitNodeAtTime(3,3) visitNodeAtTime(1,4)\n",
      "visitNodeAtTime(2,0) visitNodeAtTime(2,1) visitNodeAtTime(3,2) visitNodeAtTime(3,3) visitNodeAtTime(1,4)\n",
      "visitNodeAtTime(2,1) visitNodeAtTime(3,2) visitNodeAtTime(3,3) visitNodeAtTime(1,0) visitNodeAtTime(1,4)\n",
      "visitNodeAtTime(2,1) visitNodeAtTime(3,2) visitNodeAtTime(3,3) visitNodeAtTime(3,4) visitNodeAtTime(1,0)\n",
      "visitNodeAtTime(2,1) visitNodeAtTime(3,0) visitNodeAtTime(3,2) visitNodeAtTime(3,3) visitNodeAtTime(3,4)\n",
      "visitNodeAtTime(2,0) visitNodeAtTime(2,1) visitNodeAtTime(3,2) visitNodeAtTime(3,3) visitNodeAtTime(3,4)\n",
      "visitNodeAtTime(2,0) visitNodeAtTime(2,1) visitNodeAtTime(2,4) visitNodeAtTime(3,2) visitNodeAtTime(3,3)\n",
      "visitNodeAtTime(2,1) visitNodeAtTime(2,4) visitNodeAtTime(3,2) visitNodeAtTime(3,3) visitNodeAtTime(1,0)\n",
      "visitNodeAtTime(2,1) visitNodeAtTime(2,4) visitNodeAtTime(3,0) visitNodeAtTime(3,2) visitNodeAtTime(3,3)\n",
      "visitNodeAtTime(2,1) visitNodeAtTime(2,3) visitNodeAtTime(2,4) visitNodeAtTime(3,2) visitNodeAtTime(1,0)\n",
      "visitNodeAtTime(2,1) visitNodeAtTime(2,3) visitNodeAtTime(2,4) visitNodeAtTime(3,0) visitNodeAtTime(3,2)\n",
      "visitNodeAtTime(2,0) visitNodeAtTime(2,1) visitNodeAtTime(2,3) visitNodeAtTime(2,4) visitNodeAtTime(3,2)\n",
      "visitNodeAtTime(2,0) visitNodeAtTime(2,1) visitNodeAtTime(2,3) visitNodeAtTime(3,2) visitNodeAtTime(1,4)\n",
      "visitNodeAtTime(2,1) visitNodeAtTime(2,3) visitNodeAtTime(3,2) visitNodeAtTime(1,0) visitNodeAtTime(1,4)\n",
      "visitNodeAtTime(2,1) visitNodeAtTime(2,3) visitNodeAtTime(3,0) visitNodeAtTime(3,2) visitNodeAtTime(1,4)\n",
      "visitNodeAtTime(2,1) visitNodeAtTime(2,3) visitNodeAtTime(3,0) visitNodeAtTime(3,2) visitNodeAtTime(3,4)\n",
      "visitNodeAtTime(2,0) visitNodeAtTime(2,1) visitNodeAtTime(2,3) visitNodeAtTime(3,2) visitNodeAtTime(3,4)\n",
      "visitNodeAtTime(2,1) visitNodeAtTime(2,3) visitNodeAtTime(3,2) visitNodeAtTime(3,4) visitNodeAtTime(1,0)\n"
     ]
    },
    {
     "name": "stderr",
     "output_type": "stream",
     "text": [
      "<block>:2:9-30: info: no atoms over signature occur in program:\n",
      "  disconnected/0\n",
      "\n",
      "<block>:3:9-27: info: no atoms over signature occur in program:\n",
      "  connected/1\n",
      "\n"
     ]
    },
    {
     "data": {
      "text/plain": "SolveResult(5)"
     },
     "execution_count": 166,
     "metadata": {},
     "output_type": "execute_result"
    }
   ],
   "source": [
    "ctl = clingo.Control((\"--models\", \"0\"))\n",
    "\n",
    "ctl.add(\"base\", [], inst1)\n",
    "ctl.add(\"base\", [], gac1)\n",
    "ctl.add(\"base\", [], \"\"\"\n",
    "        #show disconnected/0.\n",
    "        #show connected/1.\n",
    "        #show visitNodeAtTime/2.\n",
    "        \"\"\"\n",
    "        )\n",
    "ctl.ground([(\"base\", ()), (\"guess\", ()), (\"check\", ())])\n",
    "ctl.solve(on_model=print)"
   ],
   "metadata": {
    "collapsed": false,
    "pycharm": {
     "name": "#%%\n"
    }
   }
  },
  {
   "cell_type": "code",
   "execution_count": 172,
   "outputs": [
    {
     "name": "stdout",
     "output_type": "stream",
     "text": [
      "visitNodeAtTime(2,1) visitNodeAtTime(3,2) visitNodeAtTime(3,3) visitNodeAtTime(1,0) visitNodeAtTime(1,4) visited(1,2) visited(2,3) visited(3,3) visited(3,1)\n",
      "visitNodeAtTime(2,1) visitNodeAtTime(3,3) visitNodeAtTime(1,0) visitNodeAtTime(1,2) visitNodeAtTime(1,4) visited(1,2) visited(1,3) visited(2,1) visited(3,1)\n",
      "visitNodeAtTime(2,1) visitNodeAtTime(2,3) visitNodeAtTime(3,2) visitNodeAtTime(1,0) visitNodeAtTime(1,4) visited(3,2) visited(1,2) visited(2,3) visited(2,1)\n",
      "visitNodeAtTime(2,1) visitNodeAtTime(2,3) visitNodeAtTime(1,0) visitNodeAtTime(1,2) visitNodeAtTime(1,4) visited(1,2) visited(2,1)\n",
      "visitNodeAtTime(2,3) visitNodeAtTime(3,1) visitNodeAtTime(1,0) visitNodeAtTime(1,2) visitNodeAtTime(1,4) visited(1,2) visited(1,3) visited(2,1) visited(3,1)\n",
      "visitNodeAtTime(2,3) visitNodeAtTime(3,1) visitNodeAtTime(3,2) visitNodeAtTime(1,0) visitNodeAtTime(1,4) visited(3,2) visited(3,3) visited(1,3) visited(2,1)\n"
     ]
    },
    {
     "data": {
      "text/plain": "SolveResult(5)"
     },
     "execution_count": 172,
     "metadata": {},
     "output_type": "execute_result"
    }
   ],
   "source": [
    "from gac import Transformer, GACPropagator\n",
    "from clingo import ast\n",
    "\n",
    "ctl = clingo.Control((\"--models\", \"0\"))\n",
    "\n",
    "check = []\n",
    "with ast.ProgramBuilder(ctl) as builder:\n",
    "    trans = Transformer(builder, check)\n",
    "    for file in [inst1,\n",
    "                 gac1,\n",
    "                 \"#show visitNodeAtTime/2. #show visited/2.\",\n",
    "                 ]:\n",
    "        ast.parse_string(file, trans.add)\n",
    "ctl.register_propagator(GACPropagator(check))\n",
    "\n",
    "ctl.ground([(\"base\", [])])\n",
    "ctl.solve(on_model=print)"
   ],
   "metadata": {
    "collapsed": false,
    "pycharm": {
     "name": "#%%\n"
    }
   }
  },
  {
   "cell_type": "code",
   "execution_count": 168,
   "outputs": [],
   "source": [
    "gac2 = \"\"\"\n",
    "#program guess.\n",
    "\n",
    "1 {a(1);a(2)}.\n",
    "\n",
    "#program check.\n",
    "\n",
    ":- not a(1).\n",
    "\n",
    "\"\"\""
   ],
   "metadata": {
    "collapsed": false,
    "pycharm": {
     "name": "#%%\n"
    }
   }
  },
  {
   "cell_type": "code",
   "execution_count": 169,
   "outputs": [
    {
     "name": "stdout",
     "output_type": "stream",
     "text": [
      "a(2)\n"
     ]
    },
    {
     "data": {
      "text/plain": "SolveResult(5)"
     },
     "execution_count": 169,
     "metadata": {},
     "output_type": "execute_result"
    }
   ],
   "source": [
    "ctl = clingo.Control((\"--models\", \"0\"))\n",
    "\n",
    "check = []\n",
    "with ast.ProgramBuilder(ctl) as builder:\n",
    "    trans = Transformer(builder, check)\n",
    "    for file in (gac2,):\n",
    "        ast.parse_string(file, trans.add)\n",
    "ctl.register_propagator(GACPropagator(check))\n",
    "\n",
    "ctl.ground([(\"base\", [])])\n",
    "ctl.solve(on_model=print)"
   ],
   "metadata": {
    "collapsed": false,
    "pycharm": {
     "name": "#%%\n"
    }
   }
  },
  {
   "cell_type": "code",
   "execution_count": 170,
   "outputs": [],
   "source": [
    "gac3 = \"\"\"\n",
    "\n",
    "#program guess.\n",
    "\n",
    "{a;b;c}.\n",
    "\n",
    "#program check.\n",
    "\n",
    "bad :- a.\n",
    "bad :- not b.\n",
    ":- not bad.\n",
    "\n",
    "\"\"\""
   ],
   "metadata": {
    "collapsed": false,
    "pycharm": {
     "name": "#%%\n"
    }
   }
  },
  {
   "cell_type": "code",
   "execution_count": 171,
   "outputs": [
    {
     "name": "stdout",
     "output_type": "stream",
     "text": [
      "b\n",
      "b c\n"
     ]
    },
    {
     "data": {
      "text/plain": "SolveResult(5)"
     },
     "execution_count": 171,
     "metadata": {},
     "output_type": "execute_result"
    }
   ],
   "source": [
    "ctl = clingo.Control((\"--models\", \"0\"))\n",
    "\n",
    "check = []\n",
    "with ast.ProgramBuilder(ctl) as builder:\n",
    "    trans = Transformer(builder, check)\n",
    "    for file in (gac3,):\n",
    "        ast.parse_string(file, trans.add)\n",
    "ctl.register_propagator(GACPropagator(check))\n",
    "\n",
    "ctl.ground([(\"base\", [])])\n",
    "ctl.solve(on_model=print)"
   ],
   "metadata": {
    "collapsed": false,
    "pycharm": {
     "name": "#%%\n"
    }
   }
  },
  {
   "cell_type": "code",
   "execution_count": 171,
   "outputs": [],
   "source": [],
   "metadata": {
    "collapsed": false,
    "pycharm": {
     "name": "#%%\n"
    }
   }
  }
 ],
 "metadata": {
  "kernelspec": {
   "display_name": "Python 3",
   "language": "python",
   "name": "python3"
  },
  "language_info": {
   "codemirror_mode": {
    "name": "ipython",
    "version": 2
   },
   "file_extension": ".py",
   "mimetype": "text/x-python",
   "name": "python",
   "nbconvert_exporter": "python",
   "pygments_lexer": "ipython2",
   "version": "2.7.6"
  }
 },
 "nbformat": 4,
 "nbformat_minor": 0
}