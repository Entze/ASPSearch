{
 "cells": [
  {
   "cell_type": "code",
   "execution_count": 1,
   "metadata": {
    "collapsed": true
   },
   "outputs": [],
   "source": [
    "from typing import Tuple, MutableMapping, Set, Sequence, List\n",
    "\n",
    "import clingo\n",
    "from clingo import Propagator, PropagateInit, PropagateControl"
   ]
  },
  {
   "cell_type": "code",
   "execution_count": 2,
   "outputs": [],
   "source": [
    "inst1 = \"\"\"\n",
    "\n",
    "node(1).\n",
    "node(2).\n",
    "node(3).\n",
    "\n",
    "edge((1,2)).\n",
    "edge((1,3)).\n",
    "edge((2,1)).\n",
    "edge((2,3)).\n",
    "edge((3,1)).\n",
    "edge((3,2)).\n",
    "\n",
    "edge_weight((1,2), 10).\n",
    "edge_weight((2,3), 10).\n",
    "edge_weight((3,1), 10).\n",
    "edge_weight((2,1), 100).\n",
    "edge_weight((3,2), 100).\n",
    "edge_weight((1,3), 100).\n",
    "\n",
    "mintime(1).\n",
    "maxtime(6).\n",
    "\n",
    "\"\"\""
   ],
   "metadata": {
    "collapsed": false,
    "pycharm": {
     "name": "#%%\n"
    }
   }
  },
  {
   "cell_type": "code",
   "execution_count": 3,
   "outputs": [],
   "source": [
    "inst2 = \"\"\"\n",
    "\n",
    "node(1).\n",
    "node(2).\n",
    "node(3).\n",
    "node(4).\n",
    "\n",
    "edge((1,2)).\n",
    "edge((1,3)).\n",
    "edge((1,4)).\n",
    "edge((2,1)).\n",
    "edge((2,3)).\n",
    "edge((3,1)).\n",
    "edge((3,2)).\n",
    "edge((3,4)).\n",
    "edge((4,1)).\n",
    "edge((4,3)).\n",
    "\n",
    "edge_weight((1,2), 10).\n",
    "edge_weight((2,3), 10).\n",
    "edge_weight((3,1), 10).\n",
    "edge_weight((3,4), 10).\n",
    "edge_weight((4,1), 10).\n",
    "edge_weight((1,4), 100).\n",
    "edge_weight((2,1), 100).\n",
    "edge_weight((3,2), 100).\n",
    "edge_weight((1,3), 100).\n",
    "edge_weight((4,3), 100).\n",
    "\n",
    "mintime(1).\n",
    "maxtime(10).\n",
    "\n",
    "\"\"\""
   ],
   "metadata": {
    "collapsed": false,
    "pycharm": {
     "name": "#%%\n"
    }
   }
  },
  {
   "cell_type": "code",
   "execution_count": 4,
   "outputs": [],
   "source": [
    "reasoning = \"\"\"\n",
    "\n",
    "time(I..A) :- mintime(I), maxtime(A).\n",
    "\n",
    "lastwalk(L) :- walk(_,L), not walk(_,L+1).\n",
    "\n",
    "%1 { walk(E,I)   : edge(E) } 1 :- mintime(I).\n",
    "%1 { walk(E,I+1) : edge(E) } 1 :- mintime(I).\n",
    "%  { walk(E,T)   : edge(E) } 1 :- walk(_,T-1), maxtime(A), T<=A.\n",
    "\n",
    "0 { walk(E,T) : edge(E) } 1 :- time(T).\n",
    "\n",
    ":- mintime(I), not walk((1,_), I).\n",
    ":- lastwalk(L), not walk((_,1), L).\n",
    "%:- edge((U,V)), edge((V,U)), not walk((U,V), _), not walk((V,U), _).\n",
    "\n",
    "#show walk/2.\n",
    "\"\"\""
   ],
   "metadata": {
    "collapsed": false,
    "pycharm": {
     "name": "#%%\n"
    }
   }
  },
  {
   "cell_type": "code",
   "execution_count": 5,
   "outputs": [],
   "source": [
    "class WindyPropagator(Propagator):\n",
    "\n",
    "    def __init__(self):\n",
    "        self._e2l: MutableMapping[Tuple[int, int], int] = {}  # {(int,int): literal}\n",
    "        self._l2e: MutableMapping[int, Tuple[int, int]] = {}  # {literal: (int,int)}\n",
    "        self._walks: MutableMapping[int, Set[int]] = {}  # {literal: {literal}}\n",
    "        self._incidents: MutableMapping[int, Set[int]] = {}  # {literal: {literal}}\n",
    "        self._w2s : MutableMapping[int, int] = {}\n",
    "        self._s2w : MutableMapping[int, int] = {}\n",
    "        self._decision_stack : List[Tuple[int,int]] = []\n",
    "\n",
    "    @staticmethod\n",
    "    def symbolic_atom_to_edge(edge: clingo.SymbolicAtom) -> Tuple[int, int]:\n",
    "        return WindyPropagator.symbol_to_edge(edge.symbol)\n",
    "\n",
    "    @staticmethod\n",
    "    def symbol_to_edge(edge: clingo.Symbol) -> Tuple[int, int]:\n",
    "        u = edge.arguments[0].arguments[0].number\n",
    "        v = edge.arguments[0].arguments[1].number\n",
    "        return u, v\n",
    "\n",
    "    def __sol_lit_to_edge_lit(self, sol_lit: int) -> int:\n",
    "        return self.__walk_lit_to_edge_lit(self._s2w[sol_lit])\n",
    "\n",
    "    def __walk_lit_to_edge_lit(self, walk_lit: int) -> int:\n",
    "        for (edge_lit, walk_lits) in self._walks.items():\n",
    "            if walk_lit in walk_lits:\n",
    "                return edge_lit\n",
    "        assert False, \"Should have found walk literal {}\".format(walk_lit)\n",
    "\n",
    "    def __sol_lit_to_edge(self, sol_lit: int) -> Tuple[int, int]:\n",
    "        return self._l2e[self.__sol_lit_to_edge_lit(sol_lit)]\n",
    "\n",
    "    def __walk_lit_to_edge(self, walk_lit: int) -> Tuple[int, int]:\n",
    "        return self._l2e[self.__walk_lit_to_edge_lit(walk_lit)]\n",
    "\n",
    "    def init(self, init: PropagateInit) -> None:\n",
    "        print(\"[DEBUG]:\", \"Initializing Propagator\")\n",
    "        edges = init.symbolic_atoms.by_signature('edge', 1)\n",
    "        print(\"[DEBUG]:\", \"Building edge dict\")\n",
    "        for edge in edges:\n",
    "            u, v = WindyPropagator.symbolic_atom_to_edge(edge)\n",
    "            edge_lit = edge.literal\n",
    "            self._e2l[(u, v)] = edge_lit\n",
    "            self._l2e[edge_lit] = (u, v)\n",
    "            walks = init.symbolic_atoms.by_signature('walk', 2)\n",
    "            for walk in walks:\n",
    "                walk_symbol = walk.symbol\n",
    "                walk_edge = walk_symbol.arguments[0]\n",
    "                walk_from = walk_edge.arguments[0].number\n",
    "                walk_to = walk_edge.arguments[1].number\n",
    "                if walk_from == u and walk_to == v:\n",
    "                    walk_lit = walk.literal\n",
    "                    self._walks.setdefault(edge_lit, set()).add(walk_lit)\n",
    "        walks = init.symbolic_atoms.by_signature('walk', 2)\n",
    "        print(\"[DEBUG]:\", \"Building walks dict\")\n",
    "        for walk in walks:\n",
    "            self._w2s[walk.literal] = init.solver_literal(walk.literal)\n",
    "            self._s2w[self._w2s[walk.literal]] = walk.literal\n",
    "            init.add_watch(self._w2s[walk.literal])\n",
    "\n",
    "        print(\"[DEBUG]:\", \"Building incidents dict\")\n",
    "        for (edge_lit1, (u, v)) in self._l2e.items():\n",
    "            for (edge_lit2, (w, x)) in self._l2e.items():\n",
    "                if v == w:\n",
    "                    self._incidents.setdefault(edge_lit1, set()).add(edge_lit2)\n",
    "\n",
    "        print(\"[DEBUG]:\", \"Adding walk clauses\")\n",
    "        for (edge_lit, walk_lits) in self._walks.items():\n",
    "            print(\"[DEBUG]:\", \"Adding clause of {} literals for {}\".format(len(walk_lits), self._l2e[edge_lit]))\n",
    "            init.add_clause(tuple(walk_lits))\n",
    "\n",
    "    def propagate(self, control: PropagateControl, changes: Sequence[int]) -> None:\n",
    "        assert len(changes) == 1, \"Should have been only one change\"\n",
    "        sol_lit = changes[-1]\n",
    "        walk_lit = self._s2w[sol_lit]\n",
    "        edge2 = self.__walk_lit_to_edge(walk_lit)\n",
    "        print(\"[DEBUG]:\", \"Reached fixpoint, chose {}\".format(edge2))\n",
    "\n",
    "\n",
    "\n",
    "\n"
   ],
   "metadata": {
    "collapsed": false,
    "pycharm": {
     "name": "#%%\n"
    }
   }
  },
  {
   "cell_type": "code",
   "execution_count": 6,
   "outputs": [],
   "source": [
    "windy_propagator = WindyPropagator()"
   ],
   "metadata": {
    "collapsed": false,
    "pycharm": {
     "name": "#%%\n"
    }
   }
  },
  {
   "cell_type": "code",
   "execution_count": 7,
   "outputs": [],
   "source": [
    "ctl = clingo.Control()\n",
    "ctl.configuration.solve.models = 0"
   ],
   "metadata": {
    "collapsed": false,
    "pycharm": {
     "name": "#%%\n"
    }
   }
  },
  {
   "cell_type": "code",
   "execution_count": 8,
   "outputs": [],
   "source": [
    "ctl.register_propagator(windy_propagator)"
   ],
   "metadata": {
    "collapsed": false,
    "pycharm": {
     "name": "#%%\n"
    }
   }
  },
  {
   "cell_type": "code",
   "execution_count": 9,
   "outputs": [],
   "source": [
    "ctl.add('base', (), inst1)\n",
    "ctl.add('base', (), reasoning)"
   ],
   "metadata": {
    "collapsed": false,
    "pycharm": {
     "name": "#%%\n"
    }
   }
  },
  {
   "cell_type": "code",
   "execution_count": 10,
   "outputs": [],
   "source": [
    "ctl.ground([('base', [])])\n"
   ],
   "metadata": {
    "collapsed": false,
    "pycharm": {
     "name": "#%%\n"
    }
   }
  },
  {
   "cell_type": "code",
   "execution_count": 16,
   "outputs": [
    {
     "data": {
      "text/plain": "['asp',\n 'configuration',\n 'learn_explicit',\n 'parse_ext',\n 'parse_maxsat',\n 'sat_prepro',\n 'share',\n 'solve',\n 'solver',\n 'stats',\n 'tester']"
     },
     "execution_count": 16,
     "metadata": {},
     "output_type": "execute_result"
    }
   ],
   "source": [
    "sorted(ctl.configuration.keys)"
   ],
   "metadata": {
    "collapsed": false,
    "pycharm": {
     "name": "#%%\n"
    }
   }
  },
  {
   "cell_type": "code",
   "execution_count": 17,
   "outputs": [
    {
     "data": {
      "text/plain": "['distribute',\n 'enum_mode',\n 'global_restarts',\n 'integrate',\n 'models',\n 'opt_mode',\n 'parallel_mode',\n 'project',\n 'solve_limit']"
     },
     "execution_count": 17,
     "metadata": {},
     "output_type": "execute_result"
    }
   ],
   "source": [
    "sorted(ctl.configuration.solve.keys)"
   ],
   "metadata": {
    "collapsed": false,
    "pycharm": {
     "name": "#%%\n"
    }
   }
  },
  {
   "cell_type": "code",
   "execution_count": 20,
   "outputs": [
    {
     "data": {
      "text/plain": "'1,compete'"
     },
     "execution_count": 20,
     "metadata": {},
     "output_type": "execute_result"
    }
   ],
   "source": [
    "ctl.configuration.solve.parallel_mode"
   ],
   "metadata": {
    "collapsed": false,
    "pycharm": {
     "name": "#%%\n"
    }
   }
  },
  {
   "cell_type": "code",
   "execution_count": 21,
   "outputs": [
    {
     "data": {
      "text/plain": "'conflict,global,4,4194303'"
     },
     "execution_count": 21,
     "metadata": {},
     "output_type": "execute_result"
    }
   ],
   "source": [
    "ctl.configuration.solve.distribute"
   ],
   "metadata": {
    "collapsed": false,
    "pycharm": {
     "name": "#%%\n"
    }
   }
  },
  {
   "cell_type": "code",
   "execution_count": null,
   "outputs": [],
   "source": [
    "def get_time(atom: clingo.Symbol):\n",
    "    if len(atom.arguments) == 2:\n",
    "        if atom.arguments[-1].type is clingo.SymbolType.Number:\n",
    "            return atom.arguments[-1].number\n",
    "    return float('Inf')"
   ],
   "metadata": {
    "collapsed": false,
    "pycharm": {
     "name": "#%%\n"
    }
   }
  },
  {
   "cell_type": "code",
   "execution_count": null,
   "outputs": [],
   "source": [
    "print(\"[DEBUG]:\", \"Starting to solve\")\n",
    "with ctl.solve(yield_=True) as solve_handle:\n",
    "    print(\"[DEBUG]:\", \"Finished solving\")\n",
    "    for model in solve_handle:\n",
    "        atoms = model.symbols(shown=True)\n",
    "        print(\"Answer {}: {} {} {}\".format(model.number, '{', ' '.join(map(str, sorted(sorted(atoms), key=get_time))),\n",
    "                                           '}'))\n",
    "    print(solve_handle.get())"
   ],
   "metadata": {
    "collapsed": false,
    "pycharm": {
     "name": "#%%\n"
    }
   }
  },
  {
   "cell_type": "code",
   "execution_count": null,
   "outputs": [],
   "source": [
    "print(\"Done\")"
   ],
   "metadata": {
    "collapsed": false,
    "pycharm": {
     "name": "#%%\n"
    }
   }
  }
 ],
 "metadata": {
  "kernelspec": {
   "display_name": "Python 3",
   "language": "python",
   "name": "python3"
  },
  "language_info": {
   "codemirror_mode": {
    "name": "ipython",
    "version": 2
   },
   "file_extension": ".py",
   "mimetype": "text/x-python",
   "name": "python",
   "nbconvert_exporter": "python",
   "pygments_lexer": "ipython2",
   "version": "2.7.6"
  }
 },
 "nbformat": 4,
 "nbformat_minor": 0
}