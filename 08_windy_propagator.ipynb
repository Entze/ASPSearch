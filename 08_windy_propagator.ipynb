{
 "cells": [
  {
   "cell_type": "code",
   "execution_count": 1,
   "metadata": {
    "collapsed": true
   },
   "outputs": [],
   "source": [
    "import clingo"
   ]
  },
  {
   "cell_type": "code",
   "execution_count": 2,
   "outputs": [],
   "source": [
    "inst1 = \"\"\"\n",
    "\n",
    "node(1).\n",
    "node(2).\n",
    "node(3).\n",
    "\n",
    "edge((1,2)).\n",
    "edge((1,3)).\n",
    "edge((2,1)).\n",
    "edge((2,3)).\n",
    "edge((3,1)).\n",
    "edge((3,2)).\n",
    "\n",
    "edge_weight((1,2), 10).\n",
    "edge_weight((2,3), 10).\n",
    "edge_weight((3,1), 10).\n",
    "edge_weight((2,1), 100).\n",
    "edge_weight((3,2), 100).\n",
    "edge_weight((1,3), 100).\n",
    "\n",
    "mintime(1).\n",
    "maxtime(3).\n",
    "\n",
    "\"\"\""
   ],
   "metadata": {
    "collapsed": false,
    "pycharm": {
     "name": "#%%\n"
    }
   }
  },
  {
   "cell_type": "code",
   "execution_count": 3,
   "outputs": [],
   "source": [
    "reasoning = \"\"\"\n",
    "\n",
    "time(I..A) :- mintime(1), maxtime(A).\n",
    "\n",
    "lastwalk(L) :- walk(_,L), not walk(_,L+1).\n",
    "\n",
    "edgecardinality(C) :- C = #count { U,V : edge((U,V)), U < V }.\n",
    "\n",
    "1 { walk((1,V),I) : edge((1,V)) } 1 :- mintime(I).\n",
    "1 { walk((V,W),I+1) : edge((V,W)) } 1 :- walk((U,V), I), mintime(I).\n",
    "1 { walk((V,W),T) : edge((V,W)), walk((_,V),T-1) } 1 :- T <= E, edgecardinality(E), walk(_,T-1), maxtime(A), T<=A.\n",
    "0 { walk((V,W),T) : edge((V,W)), walk((_,V),T-1) } 1 :- T > E, edgecardinality(E), walk(_,T-1), maxtime(A), T<=A.\n",
    "\n",
    ":- mintime(I), not walk((1,_), I).\n",
    ":- lastwalk(L), walk((_,1), L).\n",
    ":- edge((U,V)), edge((V,U)), not walk((U,V), _), not walk((V,U), _).\n",
    "\n",
    "\n",
    "\n",
    ":- edge(), edge(E2) &\n",
    "\n",
    "\"\"\""
   ],
   "metadata": {
    "collapsed": false,
    "pycharm": {
     "name": "#%%\n"
    }
   }
  },
  {
   "cell_type": "code",
   "execution_count": null,
   "outputs": [],
   "source": [],
   "metadata": {
    "collapsed": false,
    "pycharm": {
     "name": "#%%\n"
    }
   }
  }
 ],
 "metadata": {
  "kernelspec": {
   "display_name": "Python 3",
   "language": "python",
   "name": "python3"
  },
  "language_info": {
   "codemirror_mode": {
    "name": "ipython",
    "version": 2
   },
   "file_extension": ".py",
   "mimetype": "text/x-python",
   "name": "python",
   "nbconvert_exporter": "python",
   "pygments_lexer": "ipython2",
   "version": "2.7.6"
  }
 },
 "nbformat": 4,
 "nbformat_minor": 0
}