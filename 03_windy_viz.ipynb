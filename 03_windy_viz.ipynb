{
 "cells": [
  {
   "cell_type": "code",
   "execution_count": 110,
   "metadata": {
    "collapsed": true
   },
   "outputs": [],
   "source": [
    "import clingo\n",
    "from clingraph import compute_graphs\n",
    "from clingraph.orm import Factbase"
   ]
  },
  {
   "cell_type": "code",
   "execution_count": 111,
   "outputs": [],
   "source": [
    "instance1 = \"\"\"\n",
    "\n",
    "node(1).\n",
    "node(2).\n",
    "node(3).\n",
    "\n",
    "edge((1,2)).\n",
    "edge((1,3)).\n",
    "edge((2,1)).\n",
    "edge((2,3)).\n",
    "edge((3,1)).\n",
    "edge((3,2)).\n",
    "\n",
    "edge_weight((1,2), 10).\n",
    "edge_weight((2,3), 10).\n",
    "edge_weight((3,1), 10).\n",
    "edge_weight((2,1), 100).\n",
    "edge_weight((3,2), 100).\n",
    "edge_weight((1,3), 100).\n",
    "\n",
    "attr(edge, E, label, W) :- edge(E), edge_weight(E, W).\n",
    "attr(edge, E, dir, forward) :- edge(E).\n",
    "\n",
    "attr(edge, E, color, red) :- edge(E), walk(E, T).\n",
    "attr(edge, E, style, dotted) :- edge(E), not walk(E, _).\n",
    "\n",
    "mintime(1).\n",
    "maxtime(3).\n",
    "\n",
    "\n",
    "\"\"\""
   ],
   "metadata": {
    "collapsed": false,
    "pycharm": {
     "name": "#%%\n"
    }
   }
  },
  {
   "cell_type": "code",
   "execution_count": 112,
   "outputs": [],
   "source": [
    "guess = \"\"\"\n",
    "\n",
    "1 { walk(E,I) : edge(E) } 1 :- mintime(I).\n",
    "1 { walk(E,I+1) : edge(E) } 1 :- mintime(I).\n",
    "{ walk(E,T) : edge(E) } 1 :- walk(_,T-1), maxtime(A), T<=A.\n",
    "\n",
    "\"\"\""
   ],
   "metadata": {
    "collapsed": false,
    "pycharm": {
     "name": "#%%\n"
    }
   }
  },
  {
   "cell_type": "code",
   "execution_count": 113,
   "outputs": [],
   "source": [
    "filter = \"\"\"\n",
    "\n",
    "lasttime(L) :- walk(_,L), not walk(_,L+1).\n",
    "\n",
    ":-                         edge((U,V)), walk((U,V), T), walk((V,W), T+1), not edge((V,W)).\n",
    ":- mintime(I), lasttime(A), edge((U,V)), walk((U,V), A), walk((V,W),   I), not edge((V,W)).\n",
    ":-                         walk((U,V),T), walk((W,X), T+1), V != W.\n",
    ":- mintime(I), lasttime(A), walk((U,V),A), walk((W,X),   I), V != W.\n",
    "\n",
    ":- mintime(I), not walk((1,_), I).\n",
    "\n",
    "\"\"\""
   ],
   "metadata": {
    "collapsed": false,
    "pycharm": {
     "name": "#%%\n"
    }
   }
  },
  {
   "cell_type": "code",
   "execution_count": 114,
   "outputs": [],
   "source": [
    "show = \"\"\"\n",
    "\n",
    "#show walk/2.\n",
    "\n",
    "\"\"\""
   ],
   "metadata": {
    "collapsed": false,
    "pycharm": {
     "name": "#%%\n"
    }
   }
  },
  {
   "cell_type": "code",
   "execution_count": 115,
   "outputs": [
    {
     "name": "stdout",
     "output_type": "stream",
     "text": [
      "Answer:  walk((1,2),1) walk((2,3),2) walk((3,1),3)\n",
      "edge((2,1),default).\n",
      "edge((3,2),default).\n",
      "edge((2,3),default).\n",
      "edge((1,3),default).\n",
      "edge((3,1),default).\n",
      "edge((1,2),default).\n",
      "node(3,default).\n",
      "node(2,default).\n",
      "node(1,default).\n",
      "graph(default).\n",
      "attr(edge,(1,3),(style,-1),dotted).\n",
      "attr(edge,(2,3),(color,-1),red).\n",
      "attr(edge,(2,1),(style,-1),dotted).\n",
      "attr(edge,(1,2),(color,-1),red).\n",
      "attr(edge,(3,1),(label,-1),10).\n",
      "attr(edge,(2,1),(dir,-1),forward).\n",
      "attr(edge,(3,2),(dir,-1),forward).\n",
      "attr(edge,(3,1),(dir,-1),forward).\n",
      "attr(edge,(1,2),(label,-1),10).\n",
      "attr(edge,(2,1),(label,-1),100).\n",
      "attr(edge,(2,3),(label,-1),10).\n",
      "attr(edge,(2,3),(dir,-1),forward).\n",
      "attr(edge,(3,1),(color,-1),red).\n",
      "attr(edge,(3,2),(label,-1),100).\n",
      "attr(edge,(3,2),(style,-1),dotted).\n",
      "attr(edge,(1,2),(dir,-1),forward).\n",
      "attr(edge,(1,3),(dir,-1),forward).\n",
      "attr(edge,(1,3),(label,-1),100).\n",
      "\n"
     ]
    }
   ],
   "source": [
    "ctl = clingo.Control()\n",
    "ctl.configuration.solve.models = 1\n",
    "ctl.add(\"base\", (), instance1)\n",
    "ctl.add(\"base\", (), guess)\n",
    "ctl.add(\"base\", (), filter)\n",
    "ctl.add(\"base\", (), show)\n",
    "\n",
    "ctl.ground([(\"base\", ())])\n",
    "with ctl.solve(yield_=True) as solve_handle:\n",
    "    solve_handle.get()\n",
    "    model = solve_handle.model()\n",
    "    print(\"Answer: \", ' '.join(map(str, sorted(model.symbols(shown=True)))))\n",
    "    fb = Factbase()\n",
    "    fb.add_model(model)\n",
    "\n",
    "print(fb)"
   ],
   "metadata": {
    "collapsed": false,
    "pycharm": {
     "name": "#%%\n"
    }
   }
  },
  {
   "cell_type": "code",
   "execution_count": 116,
   "outputs": [
    {
     "data": {
      "text/plain": "{'default': <graphviz.graphs.Graph at 0x7efdfbf317b0>}"
     },
     "execution_count": 116,
     "metadata": {},
     "output_type": "execute_result"
    }
   ],
   "source": [
    "graphs = compute_graphs(fb)\n",
    "graphs"
   ],
   "metadata": {
    "collapsed": false,
    "pycharm": {
     "name": "#%%\n"
    }
   }
  },
  {
   "cell_type": "code",
   "execution_count": 117,
   "outputs": [
    {
     "data": {
      "image/svg+xml": "<?xml version=\"1.0\" encoding=\"UTF-8\" standalone=\"no\"?>\n<!DOCTYPE svg PUBLIC \"-//W3C//DTD SVG 1.1//EN\"\n \"http://www.w3.org/Graphics/SVG/1.1/DTD/svg11.dtd\">\n<!-- Generated by graphviz version 3.0.0 (20220315.2325)\n -->\n<!-- Title: default Pages: 1 -->\n<svg width=\"145pt\" height=\"218pt\"\n viewBox=\"0.00 0.00 145.00 218.00\" xmlns=\"http://www.w3.org/2000/svg\" xmlns:xlink=\"http://www.w3.org/1999/xlink\">\n<g id=\"graph0\" class=\"graph\" transform=\"scale(1 1) rotate(0) translate(4 214)\">\n<title>default</title>\n<polygon fill=\"white\" stroke=\"transparent\" points=\"-4,4 -4,-214 141,-214 141,4 -4,4\"/>\n<!-- 3 -->\n<g id=\"node1\" class=\"node\">\n<title>3</title>\n<ellipse fill=\"none\" stroke=\"black\" cx=\"80\" cy=\"-192\" rx=\"27\" ry=\"18\"/>\n<text text-anchor=\"middle\" x=\"80\" y=\"-188.3\" font-family=\"Times,serif\" font-size=\"14.00\">3</text>\n</g>\n<!-- 2 -->\n<g id=\"node2\" class=\"node\">\n<title>2</title>\n<ellipse fill=\"none\" stroke=\"black\" cx=\"27\" cy=\"-105\" rx=\"27\" ry=\"18\"/>\n<text text-anchor=\"middle\" x=\"27\" y=\"-101.3\" font-family=\"Times,serif\" font-size=\"14.00\">2</text>\n</g>\n<!-- 3&#45;&#45;2 -->\n<g id=\"edge2\" class=\"edge\">\n<title>3&#45;&#45;2</title>\n<path fill=\"none\" stroke=\"black\" stroke-dasharray=\"1,5\" d=\"M56.36,-182.97C44.06,-177.45 30.14,-168.77 23,-156 19.1,-149.02 18.51,-140.62 19.36,-132.72\"/>\n<polygon fill=\"black\" stroke=\"black\" points=\"22.82,-133.23 21.14,-122.77 15.93,-131.99 22.82,-133.23\"/>\n<text text-anchor=\"middle\" x=\"33.5\" y=\"-144.8\" font-family=\"Times,serif\" font-size=\"14.00\">100</text>\n</g>\n<!-- 1 -->\n<g id=\"node3\" class=\"node\">\n<title>1</title>\n<ellipse fill=\"none\" stroke=\"black\" cx=\"80\" cy=\"-18\" rx=\"27\" ry=\"18\"/>\n<text text-anchor=\"middle\" x=\"80\" y=\"-14.3\" font-family=\"Times,serif\" font-size=\"14.00\">1</text>\n</g>\n<!-- 3&#45;&#45;1 -->\n<g id=\"edge5\" class=\"edge\">\n<title>3&#45;&#45;1</title>\n<path fill=\"none\" stroke=\"red\" d=\"M80,-173.88C80,-144 80,-82.11 80,-46.27\"/>\n<polygon fill=\"red\" stroke=\"red\" points=\"83.5,-46.05 80,-36.05 76.5,-46.05 83.5,-46.05\"/>\n<text text-anchor=\"middle\" x=\"87\" y=\"-101.3\" font-family=\"Times,serif\" font-size=\"14.00\">10</text>\n</g>\n<!-- 2&#45;&#45;3 -->\n<g id=\"edge3\" class=\"edge\">\n<title>2&#45;&#45;3</title>\n<path fill=\"none\" stroke=\"red\" d=\"M36.92,-121.92C44.68,-134.36 55.62,-151.89 64.52,-166.18\"/>\n<polygon fill=\"red\" stroke=\"red\" points=\"61.77,-168.38 70.03,-175.01 67.71,-164.67 61.77,-168.38\"/>\n<text text-anchor=\"middle\" x=\"63\" y=\"-144.8\" font-family=\"Times,serif\" font-size=\"14.00\">10</text>\n</g>\n<!-- 2&#45;&#45;1 -->\n<g id=\"edge1\" class=\"edge\">\n<title>2&#45;&#45;1</title>\n<path fill=\"none\" stroke=\"black\" stroke-dasharray=\"1,5\" d=\"M21.14,-87.23C18.63,-77.01 17.39,-64.03 23,-54 28.41,-44.32 37.72,-37 47.26,-31.61\"/>\n<polygon fill=\"black\" stroke=\"black\" points=\"49,-34.65 56.36,-27.03 45.85,-28.4 49,-34.65\"/>\n<text text-anchor=\"middle\" x=\"33.5\" y=\"-57.8\" font-family=\"Times,serif\" font-size=\"14.00\">100</text>\n</g>\n<!-- 1&#45;&#45;3 -->\n<g id=\"edge4\" class=\"edge\">\n<title>1&#45;&#45;3</title>\n<path fill=\"none\" stroke=\"black\" stroke-dasharray=\"1,5\" d=\"M95.1,-33.39C100.36,-39.27 105.76,-46.46 109,-54 121.14,-82.22 114.85,-92.34 113,-123 112.11,-137.75 114.84,-142.43 109,-156 107.07,-160.48 104.39,-164.83 101.43,-168.86\"/>\n<polygon fill=\"black\" stroke=\"black\" points=\"98.71,-166.65 95.1,-176.61 104.13,-171.07 98.71,-166.65\"/>\n<text text-anchor=\"middle\" x=\"126.5\" y=\"-101.3\" font-family=\"Times,serif\" font-size=\"14.00\">100</text>\n</g>\n<!-- 1&#45;&#45;2 -->\n<g id=\"edge6\" class=\"edge\">\n<title>1&#45;&#45;2</title>\n<path fill=\"none\" stroke=\"red\" d=\"M70.08,-34.92C62.32,-47.36 51.38,-64.89 42.48,-79.18\"/>\n<polygon fill=\"red\" stroke=\"red\" points=\"39.29,-77.67 36.97,-88.01 45.23,-81.38 39.29,-77.67\"/>\n<text text-anchor=\"middle\" x=\"63\" y=\"-57.8\" font-family=\"Times,serif\" font-size=\"14.00\">10</text>\n</g>\n</g>\n</svg>\n",
      "text/plain": "<graphviz.graphs.Graph at 0x7efdfbf317b0>"
     },
     "execution_count": 117,
     "metadata": {},
     "output_type": "execute_result"
    }
   ],
   "source": [
    "graphs['default']"
   ],
   "metadata": {
    "collapsed": false,
    "pycharm": {
     "name": "#%%\n"
    }
   }
  }
 ],
 "metadata": {
  "kernelspec": {
   "display_name": "Python 3",
   "language": "python",
   "name": "python3"
  },
  "language_info": {
   "codemirror_mode": {
    "name": "ipython",
    "version": 2
   },
   "file_extension": ".py",
   "mimetype": "text/x-python",
   "name": "python",
   "nbconvert_exporter": "python",
   "pygments_lexer": "ipython2",
   "version": "2.7.6"
  }
 },
 "nbformat": 4,
 "nbformat_minor": 0
}