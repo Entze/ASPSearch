{
 "cells": [
  {
   "cell_type": "code",
   "execution_count": 126,
   "metadata": {
    "collapsed": true
   },
   "outputs": [],
   "source": [
    "import heapq\n",
    "from typing import Tuple, MutableMapping, Optional, List, Set, Sequence, cast\n",
    "\n",
    "import clingo\n",
    "from clingo import Symbol, TheoryTerm, TheoryTermType, Tuple_, SymbolType, Number, Function, ast, Control, Propagator, Model, Assignment, PropagateControl, PropagateInit\n",
    "\n",
    "PropagateInit, PropagateControl, Assignment, Model\n",
    "from clingo.ast import Transformer, AST, parse_string, ProgramBuilder"
   ]
  },
  {
   "cell_type": "code",
   "execution_count": 127,
   "outputs": [],
   "source": [
    "Node = Symbol  # pylint: disable=invalid-name\n",
    "Weight = int\n",
    "Level = int\n",
    "Edge = Tuple[Node, Node]\n",
    "WeightedEdge = Tuple[Node, Node, Weight]\n",
    "MapNodeWeight = MutableMapping[Node, Weight]"
   ],
   "metadata": {
    "collapsed": false,
    "pycharm": {
     "name": "#%%\n"
    }
   }
  },
  {
   "cell_type": "code",
   "execution_count": 128,
   "outputs": [],
   "source": [
    "THEORY = \"\"\"\n",
    "#theory dl{\n",
    "    diff_term {\n",
    "    -  : 3, unary;\n",
    "    ** : 2, binary, right;\n",
    "    *  : 1, binary, left;\n",
    "    /  : 1, binary, left;\n",
    "    \\\\ : 1, binary, left;\n",
    "    +  : 0, binary, left;\n",
    "    -  : 0, binary, left\n",
    "    };\n",
    "    &diff/1 : diff_term, {<=}, diff_term, any\n",
    "}.\n",
    "\"\"\""
   ],
   "metadata": {
    "collapsed": false,
    "pycharm": {
     "name": "#%%\n"
    }
   }
  },
  {
   "cell_type": "code",
   "execution_count": 129,
   "outputs": [],
   "source": [
    "_BOP = {\"+\": lambda a, b: a + b,\n",
    "        \"-\": lambda a, b: a - b,\n",
    "        \"*\": lambda a, b: a * b,\n",
    "        \"**\": lambda a, b: a ** b,\n",
    "        \"\\\\\": lambda a, b: a % b,\n",
    "        \"/\": lambda a, b: a // b}"
   ],
   "metadata": {
    "collapsed": false,
    "pycharm": {
     "name": "#%%\n"
    }
   }
  },
  {
   "cell_type": "code",
   "execution_count": 130,
   "outputs": [],
   "source": [
    "def _evaluate(term: TheoryTerm) -> Symbol:\n",
    "    '''\n",
    "    Evaluates the operators in a theory term in the same fashion as clingo\n",
    "    evaluates its arithmetic functions.\n",
    "    '''\n",
    "    print(\"Evaluating term\", term)\n",
    "    # tuples\n",
    "    if term.type == TheoryTermType.Tuple:\n",
    "        return Tuple_([_evaluate(x) for x in term.arguments])\n",
    "\n",
    "    # functions and arithmetic operations\n",
    "    if term.type == TheoryTermType.Function:\n",
    "        # binary operations\n",
    "        if term.name in _BOP and len(term.arguments) == 2:\n",
    "            term_a = _evaluate(term.arguments[0])\n",
    "            term_b = _evaluate(term.arguments[1])\n",
    "\n",
    "            if term_a.type != SymbolType.Number or term_b.type != SymbolType.Number:\n",
    "                raise RuntimeError(\"Invalid Binary Operation\")\n",
    "\n",
    "            if term.name in (\"/\", \"\\\\\") and term_b.number == 0:\n",
    "                raise RuntimeError(\"Division by Zero\")\n",
    "\n",
    "            return Number(_BOP[term.name](term_a.number, term_b.number))\n",
    "\n",
    "        # unary operations\n",
    "        if term.name == \"-\" and len(term.arguments) == 1:\n",
    "            term_a = _evaluate(term.arguments[0])\n",
    "\n",
    "            if term_a.type == SymbolType.Number:\n",
    "                return Number(-term_a.number)\n",
    "\n",
    "            if term_a.type == SymbolType.Function and term_a.name:\n",
    "                return Function(term_a.name, term_a.arguments, not term_a.positive)\n",
    "\n",
    "            raise RuntimeError(\"Invalid Unary Operation\")\n",
    "\n",
    "        # functions\n",
    "        return Function(term.name, [_evaluate(x) for x in term.arguments])\n",
    "\n",
    "    # constants\n",
    "    if term.type == TheoryTermType.Symbol:\n",
    "        return Function(term.name)\n",
    "\n",
    "    # numbers\n",
    "    if term.type == TheoryTermType.Number:\n",
    "        return Number(term.number)\n",
    "\n",
    "    raise RuntimeError(\"Invalid Syntax\")"
   ],
   "metadata": {
    "collapsed": false,
    "pycharm": {
     "name": "#%%\n"
    }
   }
  },
  {
   "cell_type": "code",
   "execution_count": 131,
   "outputs": [],
   "source": [
    "class HeadBodyTransformer(Transformer):\n",
    "    '''\n",
    "    Transformer to tag head and body occurrences of `&diff` atoms.\n",
    "    '''\n",
    "\n",
    "    def visit_Literal(self, lit: AST, in_lit: bool = False) -> AST:\n",
    "        '''\n",
    "        Visit literal; any theory atom in a literal is a body literal.\n",
    "        '''\n",
    "        print(\"Visiting lit\", lit)\n",
    "        return lit.update(**self.visit_children(lit, True))\n",
    "\n",
    "    def visit_TheoryAtom(self, atom: AST, in_lit: bool = False) -> AST:\n",
    "        '''\n",
    "        Visit theory atom and tag as given by in_lit.\n",
    "        '''\n",
    "        # pylint: disable=invalid-name,no-self-use\n",
    "        print(\"Visiting TheoryAtom\", atom)\n",
    "        term = atom.term\n",
    "        if term.name == \"diff\" and not term.arguments:\n",
    "            loc = \"body\" if in_lit else \"head\"\n",
    "            atom.term = ast.Function(\n",
    "                term.location,\n",
    "                term.name,\n",
    "                [ast.Function(term.location, loc, [], False)], False)\n",
    "        print(\"Renamed TheoryAtom\", atom)\n",
    "        return atom\n"
   ],
   "metadata": {
    "collapsed": false,
    "pycharm": {
     "name": "#%%\n"
    }
   }
  },
  {
   "cell_type": "code",
   "execution_count": 132,
   "outputs": [],
   "source": [
    "class Graph:\n",
    "    '''\n",
    "    This class captures a graph with weighted edges that can be extended\n",
    "    incrementally.\n",
    "    Adding an edge triggers a cycle check that will report negative cycles.\n",
    "    '''\n",
    "    _potential: MapNodeWeight\n",
    "    _graph: MutableMapping[Node, MapNodeWeight]\n",
    "    _gamma: MapNodeWeight\n",
    "    _last_edges: MutableMapping[Node, WeightedEdge]\n",
    "    _previous_edge: MutableMapping[Level, MutableMapping[Edge, Weight]]\n",
    "    _previous_potential: MutableMapping[Level, MapNodeWeight]\n",
    "\n",
    "    def __init__(self):\n",
    "        self._potential = {}  # {node: potential}\n",
    "        self._graph = {}  # {node: {node : weight}}\n",
    "        self._gamma = {}  # {node: gamma}\n",
    "        self._last_edges = {}  # {node: edge}\n",
    "        self._previous_edge = {}  # {level: {(node, node): weight}}\n",
    "        self._previous_potential = {}  # {level: {node: potential}}\n",
    "\n",
    "    @staticmethod\n",
    "    def _set(level, key, val, previous, get_current):\n",
    "        p = previous.setdefault(level, {})\n",
    "        c, k = get_current(key)\n",
    "        if not key in p:\n",
    "            p[key] = c[k] if k in c else None\n",
    "        c[k] = val\n",
    "\n",
    "    @staticmethod\n",
    "    def _reset(level, previous, get_current):\n",
    "        if level in previous:\n",
    "            for key, val in previous[level].items():\n",
    "                c, k = get_current(key)\n",
    "                if val is None:\n",
    "                    del c[k]\n",
    "                else:\n",
    "                    c[k] = val\n",
    "            del previous[level]\n",
    "\n",
    "    def _reset_edge(self, level: Level):\n",
    "        self._reset(level, self._previous_edge, lambda key: (self._graph[key[0]], key[1]))\n",
    "\n",
    "    def _reset_potential(self, level: Level):\n",
    "        self._reset(level, self._previous_potential, lambda key: (self._potential, key))\n",
    "\n",
    "    def _set_edge(self, level: Level, key: Edge, val: Weight):\n",
    "        self._set(level, key, val, self._previous_edge, lambda key: (self._graph[key[0]], key[1]))\n",
    "\n",
    "    def _set_potential(self, level: Level, key: Node, val: Weight):\n",
    "        self._set(level, key, val, self._previous_potential, lambda key: (self._potential, key))\n",
    "\n",
    "    def add_edge(self, level: Level, edge: WeightedEdge) -> Optional[List[WeightedEdge]]:\n",
    "        '''\n",
    "        Add an edge to the graph and return a negative cycle (if there is one).\n",
    "        '''\n",
    "        u, v, d = edge\n",
    "        # If edge already exists from u to v with lower weight, new edge is redundant\n",
    "        if u in self._graph and v in self._graph[u] and self._graph[u][v] <= d:\n",
    "            return None\n",
    "\n",
    "        # Initialize potential and graph\n",
    "        if u not in self._potential:\n",
    "            self._set_potential(level, u, 0)\n",
    "        if v not in self._potential:\n",
    "            self._set_potential(level, v, 0)\n",
    "        self._graph.setdefault(u, {})\n",
    "        self._graph.setdefault(v, {})\n",
    "\n",
    "        changed: Set[Node] = set()  # Set of nodes for which potential has been changed\n",
    "        min_gamma: List[Tuple[Weight, Node]] = []\n",
    "\n",
    "        # Update potential change induced by new edge, 0 for other nodes\n",
    "        self._gamma[u] = 0\n",
    "        self._gamma[v] = self._potential[u] + d - self._potential[v]\n",
    "\n",
    "        if self._gamma[v] < 0:\n",
    "            heapq.heappush(min_gamma, (self._gamma[v], v))\n",
    "            self._last_edges[v] = (u, v, d)\n",
    "\n",
    "        # Propagate negative potential change\n",
    "        while len(min_gamma) > 0 and self._gamma[u] == 0:\n",
    "            _, s = heapq.heappop(min_gamma)\n",
    "            if s not in changed:\n",
    "                self._set_potential(level, s, self._potential[s] + self._gamma[s])\n",
    "                self._gamma[s] = 0\n",
    "                changed.add(s)\n",
    "                for t in self._graph[s]:\n",
    "                    if t not in changed:\n",
    "                        gamma_t = self._potential[s] + self._graph[s][t] - self._potential[t]\n",
    "                        if gamma_t < self._gamma[t]:\n",
    "                            self._gamma[t] = gamma_t\n",
    "                            heapq.heappush(min_gamma, (gamma_t, t))\n",
    "                            self._last_edges[t] = (s, t, self._graph[s][t])\n",
    "\n",
    "        cycle = None\n",
    "        # Check if there is a negative cycle\n",
    "        if self._gamma[u] < 0:\n",
    "            cycle = []\n",
    "            x, y, c = self._last_edges[v]\n",
    "            cycle.append((x, y, c))\n",
    "            while v != x:\n",
    "                x, y, c = self._last_edges[x]\n",
    "                cycle.append((x, y, c))\n",
    "        else:\n",
    "            self._set_edge(level, (u, v), d)\n",
    "\n",
    "        # Ensure that all gamma values are zero\n",
    "        self._gamma[v] = 0\n",
    "        while len(min_gamma) > 0:\n",
    "            _, s = heapq.heappop(min_gamma)\n",
    "            self._gamma[s] = 0\n",
    "\n",
    "        return cycle\n",
    "\n",
    "    def get_assignment(self) -> List[Tuple[Node, Weight]]:\n",
    "        '''\n",
    "        Get the current assignment to integer variables.\n",
    "        '''\n",
    "        zero = Number(0)\n",
    "        adjust = self._potential[zero] if zero in self._potential else 0\n",
    "        return [(node, adjust - self._potential[node]) for node in self._potential if node != zero]\n",
    "\n",
    "    def backtrack(self, level):\n",
    "        '''\n",
    "        Backtrack the given level.\n",
    "        '''\n",
    "        self._reset_edge(level)\n",
    "        self._reset_potential(level)"
   ],
   "metadata": {
    "collapsed": false,
    "pycharm": {
     "name": "#%%\n"
    }
   }
  },
  {
   "cell_type": "code",
   "execution_count": 133,
   "outputs": [],
   "source": [
    "class DLPropagator(Propagator):\n",
    "    '''\n",
    "    A propagator for difference constraints.\n",
    "    '''\n",
    "    _l2e: MutableMapping[int, List[WeightedEdge]]\n",
    "    _e2l: MutableMapping[WeightedEdge, List[int]]\n",
    "    _states: List[Graph]\n",
    "\n",
    "    def __init__(self):\n",
    "        self._l2e = {}  # {literal: [(node, node, weight)]}\n",
    "        self._e2l = {}  # {(node, node, weight): [literal]}\n",
    "        self._states = []  # [Graph]\n",
    "\n",
    "    def _add_edge(self, init: PropagateInit, lit: int, u: Node, v: Node, w: Weight):\n",
    "        print(f\"Adding edge ({u},{v})@{w}\")\n",
    "        edge = (u, v, w)\n",
    "        self._l2e.setdefault(lit, []).append(edge)\n",
    "        self._e2l.setdefault(edge, []).append(lit)\n",
    "        init.add_watch(lit)\n",
    "\n",
    "    def init(self, init: PropagateInit):\n",
    "        '''\n",
    "        Initialize the propagator extracting difference constraints from the\n",
    "        theory data.\n",
    "        '''\n",
    "        print(\"Initializing propagator\")\n",
    "        for atom in init.theory_atoms:\n",
    "            print(\"For {} in init.theory_atoms\".format(atom))\n",
    "            term = atom.term\n",
    "            if term.name == \"diff\" and len(term.arguments) == 1:\n",
    "                assert atom.guard is not None\n",
    "                u = _evaluate(atom.elements[0].terms[0].arguments[0])\n",
    "                v = _evaluate(atom.elements[0].terms[0].arguments[1])\n",
    "                w = _evaluate(atom.guard[1]).number\n",
    "                lit = init.solver_literal(atom.literal)\n",
    "                self._add_edge(init, lit, u, v, w)\n",
    "                if term.arguments[0].name == \"body\":\n",
    "                    self._add_edge(init, -lit, v, u, -w - 1)\n",
    "\n",
    "    def propagate(self, control: PropagateControl, changes: Sequence[int]):\n",
    "        '''\n",
    "        Add edges that became true to the graph to check for negative cycles.\n",
    "        '''\n",
    "        print(\"Reached fixpoint\")\n",
    "        state = self._state(control.thread_id)\n",
    "        level = control.assignment.decision_level\n",
    "        for lit in changes:\n",
    "            for edge in self._l2e[lit]:\n",
    "                cycle = state.add_edge(level, edge)\n",
    "                if cycle is not None:\n",
    "                    c = [self._literal(control, e) for e in cycle]\n",
    "                    if control.add_nogood(c):\n",
    "                        control.propagate()\n",
    "                    return\n",
    "\n",
    "    def undo(self, thread_id: int, assign: Assignment, changes: Sequence[int]):\n",
    "        '''\n",
    "        Backtrack the last decision level propagated.\n",
    "        '''\n",
    "        # pylint: disable=unused-argument\n",
    "        print(\"Backtracking\")\n",
    "        self._state(thread_id).backtrack(assign.decision_level)\n",
    "\n",
    "    def on_model(self, model: Model):\n",
    "        '''\n",
    "        This function should be called when a model has been found to extend it\n",
    "        with the integer variable assignments.\n",
    "        '''\n",
    "        assignment = self._state(model.thread_id).get_assignment()\n",
    "        model.extend([Function(\"dl\", [var, Number(value)]) for var, value in assignment])\n",
    "\n",
    "    def _state(self, thread_id: int) -> Graph:\n",
    "        while len(self._states) <= thread_id:\n",
    "            self._states.append(Graph())\n",
    "        return self._states[thread_id]\n",
    "\n",
    "    def _literal(self, control, edge):\n",
    "        for lit in self._e2l[edge]:\n",
    "            if control.assignment.is_true(lit):\n",
    "                return lit\n",
    "        raise RuntimeError('must not happen')"
   ],
   "metadata": {
    "collapsed": false,
    "pycharm": {
     "name": "#%%\n"
    }
   }
  },
  {
   "cell_type": "code",
   "execution_count": 134,
   "outputs": [],
   "source": [
    "variant1 = \"\"\"\n",
    "\n",
    "&diff { 0-x }  <= -2.\n",
    "a :- &diff { 0-x } <= -1.\n",
    "\n",
    "\"\"\""
   ],
   "metadata": {
    "collapsed": false,
    "pycharm": {
     "name": "#%%\n"
    }
   }
  },
  {
   "cell_type": "code",
   "execution_count": 135,
   "outputs": [],
   "source": [
    "variant2 = \"\"\"\n",
    "\n",
    "&diff { 0-x } <= -2.\n",
    "&diff { 0-x } <= -1 :- a.\n",
    "{a}.\n",
    "\n",
    "\"\"\""
   ],
   "metadata": {
    "collapsed": false,
    "pycharm": {
     "name": "#%%\n"
    }
   }
  },
  {
   "cell_type": "code",
   "execution_count": 136,
   "outputs": [],
   "source": [
    "variant3 = \"\"\"\n",
    "\n",
    ":- not &diff { 0-x } <= -2.\n",
    "a :- &diff { 0-x } <= -1.\n",
    "\n",
    "\"\"\""
   ],
   "metadata": {
    "collapsed": false,
    "pycharm": {
     "name": "#%%\n"
    }
   }
  },
  {
   "cell_type": "code",
   "execution_count": 137,
   "outputs": [],
   "source": [
    "variant4 = \"\"\"\n",
    "\n",
    ":- not &diff { 0-x } <= -2.\n",
    "&diff { 0-x } <= -1 :- a.\n",
    "{a}.\n",
    "\n",
    "\"\"\""
   ],
   "metadata": {
    "collapsed": false,
    "pycharm": {
     "name": "#%%\n"
    }
   }
  },
  {
   "cell_type": "code",
   "execution_count": 138,
   "outputs": [],
   "source": [
    "def rewrite(ctl: Control, programs: Sequence[str]):\n",
    "    with ProgramBuilder(ctl) as bld:\n",
    "        hbt = HeadBodyTransformer()\n",
    "        for program in programs:\n",
    "            parse_string(\n",
    "                program,\n",
    "                lambda stm: bld.add(cast(AST, hbt.visit(stm))))"
   ],
   "metadata": {
    "collapsed": false,
    "pycharm": {
     "name": "#%%\n"
    }
   }
  },
  {
   "cell_type": "code",
   "execution_count": 139,
   "outputs": [],
   "source": [
    "def solve(programs):\n",
    "    ctl = clingo.Control()\n",
    "\n",
    "    ctl.configuration.solve.models = 0\n",
    "    propagator = DLPropagator()\n",
    "    ctl.register_propagator(propagator)\n",
    "    ctl.add('base', [], THEORY)\n",
    "\n",
    "    rewrite(ctl, programs)\n",
    "\n",
    "    ctl.ground([('base', ())])\n",
    "    with ctl.solve(on_model=propagator.on_model, yield_=True) as solve_handle:\n",
    "        for model in solve_handle:\n",
    "            atoms = model.symbols(atoms=True, theory=True)\n",
    "            print(\"Answer {}:\".format(model.number), end=' ')\n",
    "            print(\"{} {} {}\".format('{', ' '.join(map(str, sorted(atoms))),\n",
    "                                    '}'))\n",
    "        print(solve_handle.get())"
   ],
   "metadata": {
    "collapsed": false,
    "pycharm": {
     "name": "#%%\n"
    }
   }
  },
  {
   "cell_type": "code",
   "execution_count": 140,
   "outputs": [
    {
     "name": "stdout",
     "output_type": "stream",
     "text": [
      "Visiting TheoryAtom &diff { (0 - x) } <= (- 2)\n",
      "Renamed TheoryAtom &diff(head) { (0 - x) } <= (- 2)\n",
      "Visiting lit a\n",
      "Visiting lit &diff { (0 - x) } <= (- 1)\n",
      "Visiting TheoryAtom &diff { (0 - x) } <= (- 1)\n",
      "Renamed TheoryAtom &diff(body) { (0 - x) } <= (- 1)\n",
      "Initializing propagator\n",
      "For &diff(body){(0-x)}<=(-1) in init.theory_atoms\n",
      "Evaluating term 0\n",
      "Evaluating term x\n",
      "Evaluating term (-1)\n",
      "Evaluating term 1\n",
      "Adding edge (0,x)@-1\n",
      "Adding edge (x,0)@0\n",
      "For &diff(head){(0-x)}<=(-2) in init.theory_atoms\n",
      "Evaluating term 0\n",
      "Evaluating term x\n",
      "Evaluating term (-2)\n",
      "Evaluating term 2\n",
      "Adding edge (0,x)@-2\n",
      "Reached fixpoint\n",
      "Reached fixpoint\n",
      "Backtracking\n",
      "Reached fixpoint\n",
      "Answer 1: { a dl(x,2) }\n",
      "Backtracking\n",
      "SAT\n"
     ]
    }
   ],
   "source": [
    "solve([variant1])"
   ],
   "metadata": {
    "collapsed": false,
    "pycharm": {
     "name": "#%%\n"
    }
   }
  },
  {
   "cell_type": "code",
   "execution_count": 141,
   "outputs": [
    {
     "name": "stdout",
     "output_type": "stream",
     "text": [
      "Visiting TheoryAtom &diff { (0 - x) } <= (- 2)\n",
      "Renamed TheoryAtom &diff(head) { (0 - x) } <= (- 2)\n",
      "Visiting TheoryAtom &diff { (0 - x) } <= (- 1)\n",
      "Renamed TheoryAtom &diff(head) { (0 - x) } <= (- 1)\n",
      "Visiting lit a\n",
      "Visiting lit a\n",
      "Initializing propagator\n",
      "For &diff(head){(0-x)}<=(-1) in init.theory_atoms\n",
      "Evaluating term 0\n",
      "Evaluating term x\n",
      "Evaluating term (-1)\n",
      "Evaluating term 1\n",
      "Adding edge (0,x)@-1\n",
      "For &diff(head){(0-x)}<=(-2) in init.theory_atoms\n",
      "Evaluating term 0\n",
      "Evaluating term x\n",
      "Evaluating term (-2)\n",
      "Evaluating term 2\n",
      "Adding edge (0,x)@-2\n",
      "Reached fixpoint\n",
      "Answer 1: { dl(x,2) }\n",
      "Reached fixpoint\n",
      "Answer 2: { a dl(x,2) }\n",
      "Backtracking\n",
      "SAT\n"
     ]
    }
   ],
   "source": [
    "solve([variant2])"
   ],
   "metadata": {
    "collapsed": false,
    "pycharm": {
     "name": "#%%\n"
    }
   }
  },
  {
   "cell_type": "code",
   "execution_count": 142,
   "outputs": [
    {
     "name": "stdout",
     "output_type": "stream",
     "text": [
      "Visiting lit #false\n",
      "Visiting lit not &diff { (0 - x) } <= (- 2)\n",
      "Visiting TheoryAtom &diff { (0 - x) } <= (- 2)\n",
      "Renamed TheoryAtom &diff(body) { (0 - x) } <= (- 2)\n",
      "Visiting lit a\n",
      "Visiting lit &diff { (0 - x) } <= (- 1)\n",
      "Visiting TheoryAtom &diff { (0 - x) } <= (- 1)\n",
      "Renamed TheoryAtom &diff(body) { (0 - x) } <= (- 1)\n",
      "Initializing propagator\n",
      "For &diff(body){(0-x)}<=(-1) in init.theory_atoms\n",
      "Evaluating term 0\n",
      "Evaluating term x\n",
      "Evaluating term (-1)\n",
      "Evaluating term 1\n",
      "Adding edge (0,x)@-1\n",
      "Adding edge (x,0)@0\n",
      "For &diff(body){(0-x)}<=(-2) in init.theory_atoms\n",
      "Evaluating term 0\n",
      "Evaluating term x\n",
      "Evaluating term (-2)\n",
      "Evaluating term 2\n",
      "Adding edge (0,x)@-2\n",
      "Adding edge (x,0)@1\n",
      "Reached fixpoint\n",
      "Reached fixpoint\n",
      "Backtracking\n",
      "Reached fixpoint\n",
      "Answer 1: { a dl(x,2) }\n",
      "Backtracking\n",
      "SAT\n"
     ]
    }
   ],
   "source": [
    "solve([variant3])"
   ],
   "metadata": {
    "collapsed": false,
    "pycharm": {
     "name": "#%%\n"
    }
   }
  },
  {
   "cell_type": "code",
   "execution_count": 143,
   "outputs": [
    {
     "name": "stdout",
     "output_type": "stream",
     "text": [
      "Visiting lit #false\n",
      "Visiting lit not &diff { (0 - x) } <= (- 2)\n",
      "Visiting TheoryAtom &diff { (0 - x) } <= (- 2)\n",
      "Renamed TheoryAtom &diff(body) { (0 - x) } <= (- 2)\n",
      "Visiting TheoryAtom &diff { (0 - x) } <= (- 1)\n",
      "Renamed TheoryAtom &diff(head) { (0 - x) } <= (- 1)\n",
      "Visiting lit a\n",
      "Visiting lit a\n",
      "Initializing propagator\n",
      "For &diff(head){(0-x)}<=(-1) in init.theory_atoms\n",
      "Evaluating term 0\n",
      "Evaluating term x\n",
      "Evaluating term (-1)\n",
      "Evaluating term 1\n",
      "Adding edge (0,x)@-1\n",
      "For &diff(body){(0-x)}<=(-2) in init.theory_atoms\n",
      "Evaluating term 0\n",
      "Evaluating term x\n",
      "Evaluating term (-2)\n",
      "Evaluating term 2\n",
      "Adding edge (0,x)@-2\n",
      "Adding edge (x,0)@1\n",
      "Reached fixpoint\n",
      "Answer 1: { dl(x,2) }\n",
      "Reached fixpoint\n",
      "Answer 2: { a dl(x,2) }\n",
      "Backtracking\n",
      "SAT\n"
     ]
    }
   ],
   "source": [
    "solve([variant4])\n"
   ],
   "metadata": {
    "collapsed": false,
    "pycharm": {
     "name": "#%%\n"
    }
   }
  }
 ],
 "metadata": {
  "kernelspec": {
   "display_name": "Python 3",
   "language": "python",
   "name": "python3"
  },
  "language_info": {
   "codemirror_mode": {
    "name": "ipython",
    "version": 2
   },
   "file_extension": ".py",
   "mimetype": "text/x-python",
   "name": "python",
   "nbconvert_exporter": "python",
   "pygments_lexer": "ipython2",
   "version": "2.7.6"
  }
 },
 "nbformat": 4,
 "nbformat_minor": 0
}