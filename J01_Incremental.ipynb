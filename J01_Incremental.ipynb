{
 "cells": [
  {
   "cell_type": "code",
   "execution_count": 51,
   "id": "2aee9959",
   "metadata": {},
   "outputs": [],
   "source": [
    "prog1 = \"\"\"\n",
    "a(1).\n",
    "#program acid( k ).\n",
    "b( k ).\n",
    "c( X,k ) :- a( X ).\n",
    "#program base.\n",
    "a (2).\n",
    "\"\"\""
   ]
  },
  {
   "cell_type": "code",
   "execution_count": 52,
   "id": "3430fc40",
   "metadata": {},
   "outputs": [
    {
     "name": "stdout",
     "output_type": "stream",
     "text": [
      "a(1) a(2) b(1) b(2) c(1,1) c(2,1) c(1,2) c(2,2)\n"
     ]
    },
    {
     "data": {
      "text/plain": "SolveResult(5)"
     },
     "execution_count": 52,
     "metadata": {},
     "output_type": "execute_result"
    }
   ],
   "source": [
    "import clingo\n",
    "from clingo.control import Control\n",
    "\n",
    "ctl = Control(\"0\")\n",
    "ctl.add(\"base\", [], prog1)\n",
    "ctl.ground([(\"base\", [])])\n",
    "ctl.ground([(\"acid\", [])])\n",
    "ctl.ground([(\"acid\", [clingo.Number(1)])])\n",
    "ctl.ground([(\"acid\", [clingo.Number(2)])])\n",
    "ctl.solve(on_model=print)"
   ]
  },
  {
   "cell_type": "code",
   "execution_count": 53,
   "id": "f317841c",
   "metadata": {},
   "outputs": [
    {
     "name": "stdout",
     "output_type": "stream",
     "text": [
      "a(1) a(2) b(42) edge(nodes(1,2),17) c(1,42) c(2,42) d(2,42) e(2,42)\n"
     ]
    },
    {
     "data": {
      "text/plain": "SolveResult(5)"
     },
     "execution_count": 53,
     "metadata": {},
     "output_type": "execute_result"
    }
   ],
   "source": [
    "from clingo.symbol import Number, Function\n",
    "from clingo.control import Control\n",
    "\n",
    "prog = \"\"\"\n",
    "#program base.\n",
    "a(1;2).\n",
    "\n",
    "#program acid(k).\n",
    "b(k).\n",
    "c(X,k) :- a(X).\n",
    "\n",
    "#external d( X,k ) : c( X,k ).\n",
    "e( X,k ) :- d( X,k ).\n",
    "\n",
    "#program graph(e,weight).\n",
    "edge(e,weight).\n",
    "\n",
    "\n",
    "\"\"\"\n",
    "\n",
    "ctl = Control(\"0\")\n",
    "ctl.add(\"base\", [], prog)\n",
    "ctl.ground([(\"base\", [])])\n",
    "#ctl.add(\"acid\", [\"k\"], acid)\n",
    "ctl.ground([(\"acid\", [Number(42)])])\n",
    "ctl.assign_external(Function(\"d\", [Number(2), Number(42)]), True)\n",
    "\n",
    "ctl.ground([(\"graph\", [Function(\"nodes\", [Number(1), Number(2)]), Number(17)])])\n",
    "\n",
    "ctl.solve(on_model=print)\n"
   ]
  },
  {
   "cell_type": "code",
   "execution_count": 54,
   "id": "bdcde0d8",
   "metadata": {},
   "outputs": [
    {
     "name": "stdout",
     "output_type": "stream",
     "text": [
      "pos(1,0) pos(15,0) nat(15) next(1,1) next(15,1)\n"
     ]
    },
    {
     "data": {
      "text/plain": "SolveResult(5)"
     },
     "execution_count": 54,
     "metadata": {},
     "output_type": "execute_result"
    }
   ],
   "source": [
    "class Context:\n",
    "    def id(self, x):\n",
    "        return x\n",
    "\n",
    "    def seq(self, x, y):\n",
    "        return [x, y]\n",
    "\n",
    "    def next(self, s):\n",
    "        return [Number(s.number)]  #, Number(4), Number(5), Number(s)]\n",
    "\n",
    "\n",
    "incr = \"\"\"\n",
    "pos(1,0). % actual position(Node,Timepoint)\n",
    "nat(15).\n",
    "#program step(n).\n",
    "1{next(@next(Now),n+1)}1 :- pos(Now,n).\n",
    "\n",
    "%pos(2,n).\n",
    "pos(@next(X),n) :- nat(X).\n",
    "\"\"\"\n",
    "\n",
    "ctl = Control(\"0\")\n",
    "ctl.add(\"base\", [], incr)\n",
    "ctl.ground([(\"base\", [])])\n",
    "ctl.ground([(\"step\", [Number(0)])], context=Context())\n",
    "\n",
    "ctl.solve(on_model=print)"
   ]
  },
  {
   "cell_type": "markdown",
   "id": "cb899aa6",
   "metadata": {},
   "source": [
    "### Propagator"
   ]
  },
  {
   "cell_type": "code",
   "execution_count": 54,
   "id": "63115e4b",
   "metadata": {},
   "outputs": [],
   "source": []
  },
  {
   "cell_type": "code",
   "execution_count": 55,
   "id": "5fbea832",
   "metadata": {},
   "outputs": [
    {
     "name": "stdout",
     "output_type": "stream",
     "text": [
      "a\n"
     ]
    },
    {
     "data": {
      "text/plain": "SolveResult(5)"
     },
     "execution_count": 55,
     "metadata": {},
     "output_type": "execute_result"
    }
   ],
   "source": [
    "inst = \"\"\"\n",
    "a.\n",
    "\"\"\"\n",
    "\n",
    "#prop = GPropagator()\n",
    "ctl = Control(\"0\")\n",
    "#ctl.register_propagator(prop)\n",
    "ctl.add(\"base\", [], inst)\n",
    "ctl.ground([(\"base\", [])])\n",
    "ctl.solve(on_model=print)"
   ]
  },
  {
   "cell_type": "code",
   "execution_count": 56,
   "id": "74146078",
   "metadata": {},
   "outputs": [],
   "source": [
    "p_a = clingo.Function(\"p\", [clingo.Function(\"A\")])\n",
    "q_a = clingo.Function(\"q\", [clingo.Function(\"A\")])\n",
    "q_1 = clingo.Function(\"q\", [clingo.Number(1)])\n"
   ]
  },
  {
   "cell_type": "code",
   "execution_count": 57,
   "outputs": [
    {
     "name": "stdout",
     "output_type": "stream",
     "text": [
      "q(1).\n",
      "p(A) :- q(A).\n",
      "__x3.\n",
      "\n",
      "q(1)\n"
     ]
    },
    {
     "data": {
      "text/plain": "SolveResult(1)"
     },
     "execution_count": 57,
     "metadata": {},
     "output_type": "execute_result"
    }
   ],
   "source": [
    "from clingox.program import Program, ProgramObserver\n",
    "from clingox.backend import SymbolicBackend\n",
    "\n",
    "ctl = clingo.Control()\n",
    "prg = Program()\n",
    "ctl.register_observer(ProgramObserver(prg))\n",
    "\n",
    "with SymbolicBackend(ctl.backend()) as b:\n",
    "    b.add_rule(head = [p_a], pos_body = [q_a])\n",
    "    b.add_rule(head= [q_1])\n",
    "\n",
    "ctl.ground([(\"base\", [])])\n",
    "print(prg)\n",
    "print()\n",
    "ctl.solve(on_model=print)"
   ],
   "metadata": {
    "collapsed": false,
    "pycharm": {
     "name": "#%%\n"
    }
   }
  },
  {
   "cell_type": "code",
   "execution_count": 57,
   "outputs": [],
   "source": [],
   "metadata": {
    "collapsed": false,
    "pycharm": {
     "name": "#%%\n"
    }
   }
  }
 ],
 "metadata": {
  "kernelspec": {
   "display_name": "Python 3 (ipykernel)",
   "language": "python",
   "name": "python3"
  },
  "language_info": {
   "codemirror_mode": {
    "name": "ipython",
    "version": 3
   },
   "file_extension": ".py",
   "mimetype": "text/x-python",
   "name": "python",
   "nbconvert_exporter": "python",
   "pygments_lexer": "ipython3",
   "version": "3.10.2"
  }
 },
 "nbformat": 4,
 "nbformat_minor": 5
}