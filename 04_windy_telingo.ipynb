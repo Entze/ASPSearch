{
 "cells": [
  {
   "cell_type": "code",
   "execution_count": 13,
   "metadata": {
    "collapsed": true
   },
   "outputs": [],
   "source": [
    "import clingo\n",
    "import telingo\n",
    "from clingo import ast"
   ]
  },
  {
   "cell_type": "code",
   "execution_count": 14,
   "outputs": [],
   "source": [
    "inst1 = \"\"\"\n",
    "#program always.\n",
    "\n",
    "node(1).\n",
    "node(2).\n",
    "node(3).\n",
    "\n",
    "edge((1,2)).\n",
    "edge((1,3)).\n",
    "edge((2,1)).\n",
    "edge((2,3)).\n",
    "edge((3,1)).\n",
    "edge((3,2)).\n",
    "\n",
    "edge_weight((1,2), 10).\n",
    "edge_weight((2,3), 10).\n",
    "edge_weight((3,1), 10).\n",
    "edge_weight((2,1), 100).\n",
    "edge_weight((3,2), 100).\n",
    "edge_weight((1,3), 100).\n",
    "\n",
    "\"\"\""
   ],
   "metadata": {
    "collapsed": false,
    "pycharm": {
     "name": "#%%\n"
    }
   }
  },
  {
   "cell_type": "code",
   "execution_count": 15,
   "outputs": [],
   "source": [
    "reasoning = \"\"\"\n",
    "\n",
    "#program always.\n",
    "\n",
    "walk(E) :-\n",
    "  edge(E),\n",
    "  not else(E).\n",
    "\n",
    "else(E1) :-\n",
    "  edge(E1), edge(E2), E1 != E2,\n",
    "  walk(E2).\n",
    "\n",
    "cost(C+W) :- 'cost(C), walk(E), edge_weight(E,W).\n",
    "\n",
    "#show walk/1.\n",
    "#show cost/1.\n",
    "\n",
    "#program initial.\n",
    "\n",
    "else((U,V)) :-\n",
    "  edge((U,V)), U != 1.\n",
    "\n",
    ":- edge((U,V)), edge((V,U)), not &tel { >? (walk((U,V)) | walk((V,U))) }.\n",
    "\n",
    "cost(W) :- walk(E), edge_weight(E,W).\n",
    "\n",
    "#program dynamic.\n",
    "\n",
    "else((W,X)) :-\n",
    "  edge((W,X)),\n",
    "  'walk((U,V)), V != W.\n",
    "\n",
    "#program final.\n",
    "\n",
    "else((W,X)) :-\n",
    "  edge((W,X)), X != 1.\n",
    "\n",
    "\"\"\""
   ],
   "metadata": {
    "collapsed": false,
    "pycharm": {
     "name": "#%%\n"
    }
   }
  },
  {
   "cell_type": "code",
   "execution_count": 16,
   "outputs": [],
   "source": [
    "program = (inst1, reasoning)"
   ],
   "metadata": {
    "collapsed": false,
    "pycharm": {
     "name": "#%%\n"
    }
   }
  },
  {
   "cell_type": "code",
   "execution_count": 17,
   "outputs": [
    {
     "name": "stdout",
     "output_type": "stream",
     "text": [
      "walk((1,3),0) walk((3,2),1) walk((2,1),2) cost(100,0) cost(200,1) cost(300,2) 2\n",
      "walk((1,2),0) walk((2,3),1) walk((3,1),2) cost(10,0) cost(20,1) cost(30,2) 2\n",
      "walk((1,3),0) walk((3,2),1) walk((2,1),2) cost(100,0) cost(200,1) cost(300,2) 3\n",
      "walk((1,2),0) walk((2,3),1) walk((3,1),2) cost(10,0) cost(20,1) cost(30,2) 3\n",
      "walk((1,2),0) walk((2,3),1) walk((3,1),2) walk((1,2),3) walk((2,1),4) cost(10,0) cost(20,1) cost(30,2) cost(40,3) cost(140,4) 4\n",
      "walk((1,2),0) walk((2,3),1) walk((3,1),2) walk((1,3),3) walk((3,1),4) cost(10,0) cost(20,1) cost(30,2) cost(130,3) cost(140,4) 4\n",
      "walk((1,2),0) walk((2,3),1) walk((3,2),2) walk((2,3),3) walk((3,1),4) cost(10,0) cost(20,1) cost(120,2) cost(130,3) cost(140,4) 4\n",
      "walk((1,3),0) walk((3,2),1) walk((2,1),2) walk((1,2),3) walk((2,1),4) cost(100,0) cost(200,1) cost(300,2) cost(310,3) cost(410,4) 4\n",
      "walk((1,3),0) walk((3,2),1) walk((2,1),2) walk((1,3),3) walk((3,1),4) cost(100,0) cost(200,1) cost(300,2) cost(400,3) cost(410,4) 4\n",
      "walk((1,2),0) walk((2,1),1) walk((1,3),2) walk((3,2),3) walk((2,1),4) cost(10,0) cost(110,1) cost(210,2) cost(310,3) cost(410,4) 4\n",
      "walk((1,3),0) walk((3,1),1) walk((1,3),2) walk((3,2),3) walk((2,1),4) cost(100,0) cost(110,1) cost(210,2) cost(310,3) cost(410,4) 4\n",
      "walk((1,3),0) walk((3,2),1) walk((2,3),2) walk((3,2),3) walk((2,1),4) cost(100,0) cost(200,1) cost(210,2) cost(310,3) cost(410,4) 4\n",
      "walk((1,3),0) walk((3,1),1) walk((1,2),2) walk((2,3),3) walk((3,1),4) cost(100,0) cost(110,1) cost(120,2) cost(130,3) cost(140,4) 4\n",
      "walk((1,2),0) walk((2,1),1) walk((1,2),2) walk((2,3),3) walk((3,1),4) cost(10,0) cost(110,1) cost(120,2) cost(130,3) cost(140,4) 4\n"
     ]
    }
   ],
   "source": [
    "ctl = clingo.Control()\n",
    "ctl.configuration.solve.models = 0\n",
    "\n",
    "with ast.ProgramBuilder(ctl) as b:\n",
    "    future_sigs, program_parts = telingo._tf.transform(program, b.add)\n",
    "\n",
    "telingo.imain(ctl, future_sigs, program_parts, on_model=print, imin=2, imax=5, istop=\"UNKNOWN\")"
   ],
   "metadata": {
    "collapsed": false,
    "pycharm": {
     "name": "#%%\n"
    }
   }
  }
 ],
 "metadata": {
  "kernelspec": {
   "display_name": "Python 3",
   "language": "python",
   "name": "python3"
  },
  "language_info": {
   "codemirror_mode": {
    "name": "ipython",
    "version": 2
   },
   "file_extension": ".py",
   "mimetype": "text/x-python",
   "name": "python",
   "nbconvert_exporter": "python",
   "pygments_lexer": "ipython2",
   "version": "2.7.6"
  }
 },
 "nbformat": 4,
 "nbformat_minor": 0
}