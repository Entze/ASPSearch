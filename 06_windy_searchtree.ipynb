{
 "cells": [
  {
   "cell_type": "code",
   "execution_count": 1,
   "metadata": {
    "collapsed": true
   },
   "outputs": [],
   "source": [
    "\n",
    "from dataclasses import dataclass, field\n",
    "from typing import Optional\n",
    "\n",
    "import clingo\n",
    "import networkx as nx\n",
    "from clingox.program import Program, ProgramObserver\n"
   ]
  },
  {
   "cell_type": "code",
   "execution_count": 3,
   "outputs": [],
   "source": [
    "reasoning = \"\"\"\n",
    "\n",
    "#program derived.\n",
    "\n",
    "pos(V) :- walk((_,V)).\n",
    "\n",
    "cost(C + W) :- C = @prev_cost(), walk(E), W = @weight(E).\n",
    "tour :- pos(1).\n",
    "complete :- walk(E), @visited_all(E) = true.\n",
    "\n",
    "#program choice.\n",
    "\n",
    "1 { walk(E) : E = @edges(V), V = @pos() } 1.\n",
    "\n",
    "#program goal.\n",
    "\n",
    "goal :- tour, complete.\n",
    "\n",
    "\"\"\""
   ],
   "metadata": {
    "collapsed": false,
    "pycharm": {
     "name": "#%%\n"
    }
   }
  },
  {
   "cell_type": "code",
   "execution_count": 4,
   "outputs": [],
   "source": [
    "@dataclass\n",
    "class SearchNode:\n",
    "    position: int = 1\n",
    "    visited: frozenset = field(default_factory=frozenset)\n",
    "    p_cost: int = 0\n",
    "\n",
    "    def create_context(self, graph):\n",
    "        return GraphContext(graph=graph, visited=self.visited, p_cost=self.p_cost, position=self.position)\n",
    "\n",
    "    def __hash__(self):\n",
    "        return hash(('SearchNode', self.position, self.visited, self.p_cost))"
   ],
   "metadata": {
    "collapsed": false,
    "pycharm": {
     "name": "#%%\n"
    }
   }
  },
  {
   "cell_type": "code",
   "execution_count": 5,
   "outputs": [
    {
     "data": {
      "text/plain": "<Figure size 432x288 with 1 Axes>",
      "image/png": "[encoded data removed]"
     },
     "metadata": {},
     "output_type": "display_data"
    }
   ],
   "source": [
    "graph = nx.DiGraph()\n",
    "graph.add_weighted_edges_from(\n",
    "    [(1, 2, 10),\n",
    "     (1, 3, 100),\n",
    "     (2, 1, 100),\n",
    "     (2, 3, 10),\n",
    "     (3, 1, 10),\n",
    "     (3, 2, 100)],\n",
    ")\n",
    "nx.draw(graph)"
   ],
   "metadata": {
    "collapsed": false,
    "pycharm": {
     "name": "#%%\n"
    }
   }
  },
  {
   "cell_type": "code",
   "execution_count": 6,
   "outputs": [
    {
     "data": {
      "text/plain": "OutEdgeDataView([(1, 2, {'weight': 10}), (1, 3, {'weight': 100}), (2, 1, {'weight': 100}), (2, 3, {'weight': 10}), (3, 1, {'weight': 10}), (3, 2, {'weight': 100})])"
     },
     "execution_count": 6,
     "metadata": {},
     "output_type": "execute_result"
    }
   ],
   "source": [
    "graph.edges(data=True)"
   ],
   "metadata": {
    "collapsed": false,
    "pycharm": {
     "name": "#%%\n"
    }
   }
  },
  {
   "cell_type": "code",
   "execution_count": 7,
   "outputs": [],
   "source": [
    "@dataclass\n",
    "class GraphContext:\n",
    "    graph: nx.DiGraph\n",
    "    p_cost: int = 0\n",
    "    visited: frozenset = field(default_factory=frozenset)\n",
    "    position: int = 1\n",
    "\n",
    "    @staticmethod\n",
    "    def get_edge(edge: clingo.Symbol, graph: Optional[nx.Graph] = None):\n",
    "        outgoing_node = edge.arguments[0].number\n",
    "        incoming_node = edge.arguments[1].number\n",
    "        weight = None\n",
    "        if graph is not None:\n",
    "            weight = graph[outgoing_node][incoming_node]['weight']\n",
    "        return outgoing_node, incoming_node, weight\n",
    "\n",
    "    def prev_cost(self):\n",
    "        return clingo.Number(self.p_cost)\n",
    "\n",
    "    def weight(self, edge: clingo.Symbol):\n",
    "        _, _, weight = GraphContext.get_edge(edge, self.graph)\n",
    "        return clingo.Number(weight)\n",
    "\n",
    "    def visited_all(self, edge: clingo.Symbol):\n",
    "        if len(self.visited) + 1 < len(self.graph.edges) // 2:\n",
    "            return clingo.Function(\"false\")\n",
    "        outgoing_node, incoming_node, _ = GraphContext.get_edge(edge)\n",
    "        visited_edges = set(map(tuple, map(sorted, self.visited)))\n",
    "        visited_edges.add(tuple(sorted((outgoing_node,incoming_node))))\n",
    "        all_edges = set(map(tuple, map(sorted, self.graph.edges)))\n",
    "        print(visited_edges, all_edges)\n",
    "        if visited_edges == all_edges:\n",
    "            return clingo.Function(\"true\")\n",
    "        return clingo.Function(\"false\")\n",
    "\n",
    "    def edges(self, vertex: clingo.Symbol):\n",
    "        v = vertex.number\n",
    "        ns = self.graph.successors(v)\n",
    "        return [clingo.Tuple_((vertex, clingo.Number(n))) for n in ns]\n",
    "\n",
    "    def pos(self):\n",
    "        return clingo.Number(self.position)\n"
   ],
   "metadata": {
    "collapsed": false,
    "pycharm": {
     "name": "#%%\n"
    }
   }
  },
  {
   "cell_type": "code",
   "execution_count": 8,
   "outputs": [
    {
     "name": "stdout",
     "output_type": "stream",
     "text": [
      "(1,2): 10\n",
      "(1,3): 100\n",
      "(2,1): 100\n",
      "(2,3): 10\n",
      "(3,1): 10\n",
      "(3,2): 100\n"
     ]
    }
   ],
   "source": [
    "graph.edges(data=True)\n",
    "for edge in graph.edges(data=True):\n",
    "    print(\"({},{}):\".format(edge[0], edge[1]), edge[-1]['weight'])"
   ],
   "metadata": {
    "collapsed": false,
    "pycharm": {
     "name": "#%%\n"
    }
   }
  },
  {
   "cell_type": "code",
   "execution_count": 9,
   "outputs": [
    {
     "name": "stdout",
     "output_type": "stream",
     "text": [
      "Starting search:\n",
      "Fringe: [SearchNode(position=1, visited=frozenset(), p_cost=0)]\n",
      "Best solution: (None, 331)\n"
     ]
    }
   ],
   "source": [
    "fringe = []\n",
    "closed = set()\n",
    "root = SearchNode()\n",
    "fringe.append(root)\n",
    "best_solution = (None, 1 + sum(edge[-1]['weight'] for edge in graph.edges(data=True)))\n",
    "explored = 0\n",
    "print(\"Starting search:\")\n",
    "print(\"Fringe:\", fringe)\n",
    "print(\"Best solution:\", best_solution)"
   ],
   "metadata": {
    "collapsed": false,
    "pycharm": {
     "name": "#%%\n"
    }
   }
  },
  {
   "cell_type": "code",
   "execution_count": 29,
   "outputs": [
    {
     "name": "stdout",
     "output_type": "stream",
     "text": [
      "Found best solution: (16, 30)\n"
     ]
    },
    {
     "data": {
      "text/plain": "[]"
     },
     "execution_count": 29,
     "metadata": {},
     "output_type": "execute_result"
    }
   ],
   "source": [
    "if not fringe:\n",
    "    print(\"Found best solution:\", best_solution)\n",
    "else:\n",
    "    explored += 1\n",
    "    node = fringe.pop()\n",
    "    closed.add(node)\n",
    "    print(node)\n",
    "    if node.p_cost <= best_solution[1]:\n",
    "        ctl = clingo.Control()\n",
    "        ctl.configuration.solve.models = 0\n",
    "\n",
    "\n",
    "        prg = Program()\n",
    "        obs = ProgramObserver(prg)\n",
    "        ctl.register_observer(obs)\n",
    "\n",
    "        ctl.add(\"base\", (), reasoning)\n",
    "        ctx = node.create_context(graph)\n",
    "        ctl.ground([(\"base\", []), (\"choice\", []), (\"derived\", []), (\"goal\", [])], context=ctx)\n",
    "\n",
    "        print(\"Facts:\", len(prg.facts), \"Rules:\", len(prg.rules))\n",
    "        print(\"-\"*20)\n",
    "        print(prg)\n",
    "        print(\"-\"*20)\n",
    "\n",
    "        children = []\n",
    "        with ctl.solve(yield_=True) as solve_handle:\n",
    "            for model in solve_handle:\n",
    "                position = None\n",
    "                visited = set(node.visited)\n",
    "                p_cost = None\n",
    "                goal = False\n",
    "                atoms = model.symbols(atoms=True)\n",
    "                print('{', ' '.join(map(str, sorted(atoms))), '}')\n",
    "                for atom in atoms:\n",
    "                    if atom.match('pos', 1):\n",
    "                        position = atom.arguments[0].number\n",
    "                    elif atom.match('walk', 1):\n",
    "                        edge = atom.arguments[0]\n",
    "                        outgoing_node, incoming_node, _ = GraphContext.get_edge(edge)\n",
    "                        visited.add((outgoing_node, incoming_node))\n",
    "                    elif atom.match('cost', 1):\n",
    "                        p_cost = atom.arguments[0].number\n",
    "                    elif atom.match('goal', 0):\n",
    "                        goal = True\n",
    "                if goal:\n",
    "                    print(\"Found solution\")\n",
    "                    prev_best, prev_best_cost = best_solution\n",
    "                    if prev_best_cost > p_cost:\n",
    "                        best_solution = explored, p_cost\n",
    "                        print(\"New best solution\")\n",
    "                else:\n",
    "                    child = SearchNode(position, frozenset(visited), p_cost)\n",
    "                    if child not in closed:\n",
    "                        children.append(child)\n",
    "        #children.sort(key=lambda c: c.p_cost,reverse=True)\n",
    "        fringe.extend(children)\n",
    "    else:\n",
    "        print(\"Remove node.\", \"Current best:\", best_solution[1])\n",
    "fringe"
   ],
   "metadata": {
    "collapsed": false,
    "pycharm": {
     "name": "#%%\n"
    }
   }
  },
  {
   "cell_type": "code",
   "execution_count": 11,
   "outputs": [
    {
     "data": {
      "text/plain": "1"
     },
     "execution_count": 11,
     "metadata": {},
     "output_type": "execute_result"
    }
   ],
   "source": [
    "explored"
   ],
   "metadata": {
    "collapsed": false,
    "pycharm": {
     "name": "#%%\n"
    }
   }
  }
 ],
 "metadata": {
  "kernelspec": {
   "display_name": "Python 3",
   "language": "python",
   "name": "python3"
  },
  "language_info": {
   "codemirror_mode": {
    "name": "ipython",
    "version": 2
   },
   "file_extension": ".py",
   "mimetype": "text/x-python",
   "name": "python",
   "nbconvert_exporter": "python",
   "pygments_lexer": "ipython2",
   "version": "2.7.6"
  }
 },
 "nbformat": 4,
 "nbformat_minor": 0
}