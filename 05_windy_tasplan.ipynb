{
 "cells": [
  {
   "cell_type": "code",
   "execution_count": 12,
   "metadata": {
    "collapsed": true
   },
   "outputs": [],
   "source": [
    "from collections import namedtuple\n",
    "from typing import List\n",
    "\n",
    "import clingo\n",
    "from clingox.backend import SymbolicBackend"
   ]
  },
  {
   "cell_type": "code",
   "execution_count": 13,
   "outputs": [],
   "source": [
    "inst1 = \"\"\"\n",
    "\n",
    "#program static.\n",
    "\n",
    "node(1).\n",
    "node(2).\n",
    "node(3).\n",
    "\n",
    "edge((1,2)).\n",
    "edge((1,3)).\n",
    "edge((2,1)).\n",
    "edge((2,3)).\n",
    "edge((3,1)).\n",
    "edge((3,2)).\n",
    "\n",
    "edge_weight((1,2), 10).\n",
    "edge_weight((2,3), 10).\n",
    "edge_weight((3,1), 10).\n",
    "edge_weight((2,1), 100).\n",
    "edge_weight((3,2), 100).\n",
    "edge_weight((1,3), 100).\n",
    "\n",
    "\"\"\""
   ],
   "metadata": {
    "collapsed": false,
    "pycharm": {
     "name": "#%%\n"
    }
   }
  },
  {
   "cell_type": "code",
   "execution_count": 14,
   "outputs": [],
   "source": [
    "reasoning = \"\"\"\n",
    "\n",
    "#program types(t).\n",
    "\n",
    "action(walk(E,t)) :- edge(E).\n",
    "fluent(tour(t)).\n",
    "fluent(incomplete(t)).\n",
    "fluent(goal(t)).\n",
    "\n",
    "#program initial.\n",
    "\n",
    "#program dynamic(t).\n",
    "\n",
    "1 { walk((1,W),t) : edge((1,W)) } 1 :- t = 1.\n",
    "1 { walk((V,W),t) : edge((V,W)), walk((U,V),t-1) } 1 :- t > 1.\n",
    "\n",
    "tour(t) :- walk((W,1),t).\n",
    "incomplete(t) :- edge((U,V)), edge((V,U)), not walk((U,V),_), not walk((V,U),_).\n",
    "\n",
    "#program final(t).\n",
    "\n",
    "goal(t) :- tour(t), not incomplete(t).\n",
    "\n",
    "\"\"\""
   ],
   "metadata": {
    "collapsed": false,
    "pycharm": {
     "name": "#%%\n"
    }
   }
  },
  {
   "cell_type": "code",
   "execution_count": 15,
   "outputs": [],
   "source": [
    "program_types = clingo.Control()\n",
    "program_types.configuration.solve.models = 0\n",
    "\n",
    "action_list = []\n",
    "fluent_list = []\n",
    "initial_states = []"
   ],
   "metadata": {
    "collapsed": false,
    "pycharm": {
     "name": "#%%\n"
    }
   }
  },
  {
   "cell_type": "code",
   "execution_count": 16,
   "outputs": [
    {
     "name": "stdout",
     "output_type": "stream",
     "text": [
      "Actions: walk((1,2),0), walk((1,3),0), walk((2,1),0), walk((2,3),0), walk((3,1),0), walk((3,2),0)\n",
      "Fluents: goal(0), incomplete(0), tour(0)\n",
      "Initial States: {\n",
      "[  ]\n",
      "}\n"
     ]
    },
    {
     "name": "stderr",
     "output_type": "stream",
     "text": [
      "<block>:18:48-61: info: atom does not occur in any rule head:\n",
      "  walk((#X0,#X1),#P2)\n",
      "\n"
     ]
    }
   ],
   "source": [
    "program_types.add(\"base\", (), inst1)\n",
    "program_types.add(\"base\", (), reasoning)\n",
    "program_types.ground([('initial', []),('types', [clingo.Number(0)]),('static', [])])\n",
    "with program_types.solve(yield_ = True) as solve_handle:\n",
    "    for model in solve_handle:\n",
    "        initial_state = []\n",
    "        for atom in model.symbols(atoms = True):\n",
    "            if atom.match('action', 1):\n",
    "                action_list.append(atom.arguments[0])\n",
    "            elif atom.match('fluent', 1):\n",
    "                fluent_list.append(atom.arguments[0])\n",
    "            elif atom in fluent_list or atom in action_list:\n",
    "                initial_state.append(atom)\n",
    "        initial_states.append(initial_state)\n",
    "\n",
    "print(\"Actions: {}\".format(', '.join(map(str, sorted(action_list)))))\n",
    "print(\"Fluents: {}\".format(', '.join(map(str, sorted(fluent_list)))))\n",
    "print(\"Initial States: {}\\n{}\\n{}\".format('{', '\\n'.join('[ ' + ', '.join(map(str, sorted(s))) for s in initial_states) + ' ]', '}'))"
   ],
   "metadata": {
    "collapsed": false,
    "pycharm": {
     "name": "#%%\n"
    }
   }
  },
  {
   "cell_type": "code",
   "execution_count": 17,
   "outputs": [],
   "source": [
    "program_dynamic = clingo.Control()\n",
    "program_dynamic.configuration.solve.models = 0\n",
    "\n",
    "program_dynamic.add('base', (), inst1)\n",
    "program_dynamic.add('base', (), reasoning)\n",
    "\n",
    "with SymbolicBackend(program_dynamic.backend()) as sb:\n",
    "    for atom in fluent_list:\n",
    "        sb.add_external(atom)\n",
    "    for atom in action_list:\n",
    "        sb.add_external(atom)\n",
    "program_dynamic.ground([('base', []), ('dynamic', [clingo.Number(1)]), ('static', []), ('final', [clingo.Number(1)])])"
   ],
   "metadata": {
    "collapsed": false,
    "pycharm": {
     "name": "#%%\n"
    }
   }
  },
  {
   "cell_type": "code",
   "execution_count": 18,
   "outputs": [],
   "source": [
    "class SearchNode(namedtuple('SearchNode', ['state', 'parent', 'action', 'path_cost', 'depth', 'priority'])):\n",
    "    pass"
   ],
   "metadata": {
    "collapsed": false,
    "pycharm": {
     "name": "#%%\n"
    }
   }
  },
  {
   "cell_type": "code",
   "execution_count": 19,
   "outputs": [],
   "source": [
    "def successors(domain : clingo.Control, state, actions, fluents):\n",
    "    priority = -1\n",
    "    succ_states: List[tuple] = []\n",
    "    old_ones = state[:]\n",
    "    for atom in state: # type: clingo.Symbol\n",
    "        domain.assign_external(atom, True)\n",
    "\n",
    "    with domain.solve(yield_=True) as solve_handle:\n",
    "        for model in solve_handle:\n",
    "            priority = -1\n",
    "            cost = -1\n",
    "            atoms = []\n",
    "            performed_actions = []\n",
    "            for atom in model.symbols(atoms=True):\n",
    "                if atom.match('cost', 1):\n",
    "                    cost = atom.arguments[0].number\n",
    "                t = atom.arguments[-1]\n",
    "                if t.type is clingo.SymbolType.Number and t.number == 1:\n",
    "                    reset = clingo.Function(atom.name, atom.arguments, atom.positive)\n",
    "                    reset.arguments[-1] = clingo.Number(0)\n",
    "                    if reset in fluents:\n",
    "                        atoms.append()\n",
    "                        old_ones.append(atom)\n",
    "                    elif reset in actions:\n",
    "                        performed_actions.append(reset)\n",
    "                        old_ones.append(atom)\n",
    "            succ_states.append((performed_actions, atoms, int(priority),int(cost)))\n",
    "\n",
    "    for atom in old_ones:\n",
    "        domain.assign_external(atom, False)\n",
    "    return succ_states"
   ],
   "metadata": {
    "collapsed": false,
    "pycharm": {
     "name": "#%%\n"
    }
   }
  },
  {
   "cell_type": "code",
   "execution_count": 20,
   "outputs": [],
   "source": [
    "def expand(domain, node: SearchNode, actions, fluents):\n",
    "    succs = []\n",
    "    cost_value = 0\n",
    "    priority_value = 0\n",
    "    for action, result, priority_value, cost in successors(domain, node.state, actions, fluents):\n",
    "        cost_value = cost or node.path_cost + 1\n",
    "\n",
    "        new = SearchNode(result, node, action, cost_value, node.depth + 1, priority_value)\n",
    "        succs.append(new)\n",
    "    return succs"
   ],
   "metadata": {
    "collapsed": false,
    "pycharm": {
     "name": "#%%\n"
    }
   }
  },
  {
   "cell_type": "code",
   "execution_count": 21,
   "outputs": [],
   "source": [
    "class GraphSearch:\n",
    "    def __init__(self):\n",
    "        self.domain = None\n",
    "\n",
    "\n",
    "\n",
    "    def search(self, initial, fringe:list, actions, fluents):\n",
    "        \"\"\" Searches for a plan \"\"\"\n",
    "\n",
    "        max_size = 0 # Maximum number of nodes in the fringe\n",
    "        explored = 0 # Number of explored nodes\n",
    "        visited = set() # Set of visited nodes\n",
    "        root_node = SearchNode(initial, None, [], 0, 0, 0) # Node which stores the initial state\n",
    "        fringe.append(root_node)\n",
    "        goal = clingo.Function(\"goal\", [clingo.Number(0)]) # The goal predicate\n",
    "\n",
    "        while True:\n",
    "            max_size = max(max_size, len(fringe))\n",
    "            if not fringe:\n",
    "                print(\"UNSAT\", \"explored states:\", explored, \"max fringe size\", max_size)\n",
    "                return False\n",
    "\n",
    "            node : SearchNode = fringe.pop()\n",
    "            print(node)\n",
    "\n",
    "            if goal in node.state:\n",
    "                print(\"SAT\", \"explored states:\", explored, \"max fringe size\", max_size)\n",
    "                print(node)\n",
    "                return True\n",
    "\n",
    "            state = frozenset(node.state)\n",
    "            if state not in visited:\n",
    "                visited.add(state)\n",
    "                explored = explored + 1\n",
    "                for child in expand(self.domain, node, actions, fluents):\n",
    "                    fringe.append(child)"
   ],
   "metadata": {
    "collapsed": false,
    "pycharm": {
     "name": "#%%\n"
    }
   }
  },
  {
   "cell_type": "code",
   "execution_count": 22,
   "outputs": [
    {
     "name": "stdout",
     "output_type": "stream",
     "text": [
      "SearchNode(state=[], parent=None, action=[], path_cost=0, depth=0, priority=0)\n",
      "SearchNode(state=[], parent=SearchNode(state=[], parent=None, action=[], path_cost=0, depth=0, priority=0), action=[], path_cost=-1, depth=1, priority=-1)\n",
      "SearchNode(state=[], parent=SearchNode(state=[], parent=None, action=[], path_cost=0, depth=0, priority=0), action=[], path_cost=-1, depth=1, priority=-1)\n",
      "UNSAT explored states: 1 max fringe size 2\n"
     ]
    },
    {
     "data": {
      "text/plain": "False"
     },
     "execution_count": 22,
     "metadata": {},
     "output_type": "execute_result"
    }
   ],
   "source": [
    "search = GraphSearch()\n",
    "search.domain = program_dynamic\n",
    "\n",
    "search.search(initial_states[0], [], action_list, fluent_list)"
   ],
   "metadata": {
    "collapsed": false,
    "pycharm": {
     "name": "#%%\n"
    }
   }
  }
 ],
 "metadata": {
  "kernelspec": {
   "display_name": "Python 3",
   "language": "python",
   "name": "python3"
  },
  "language_info": {
   "codemirror_mode": {
    "name": "ipython",
    "version": 2
   },
   "file_extension": ".py",
   "mimetype": "text/x-python",
   "name": "python",
   "nbconvert_exporter": "python",
   "pygments_lexer": "ipython2",
   "version": "2.7.6"
  }
 },
 "nbformat": 4,
 "nbformat_minor": 0
}